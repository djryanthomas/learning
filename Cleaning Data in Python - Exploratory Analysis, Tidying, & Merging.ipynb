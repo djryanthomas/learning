{
 "cells": [
  {
   "cell_type": "markdown",
   "metadata": {},
   "source": [
    "### Loading, viewing, and exploring data"
   ]
  },
  {
   "cell_type": "code",
   "execution_count": 2,
   "metadata": {},
   "outputs": [
    {
     "name": "stdout",
     "output_type": "stream",
     "text": [
      "Head:\n",
      "        Job #  Doc #        Borough       House #  \\\n",
      "0  121577873      2      MANHATTAN  386            \n",
      "1  520129502      1  STATEN ISLAND  107            \n",
      "2  121601560      1      MANHATTAN  63             \n",
      "3  121601203      1      MANHATTAN  48             \n",
      "4  121601338      1      MANHATTAN  45             \n",
      "\n",
      "                        Street Name  Block  Lot    Bin # Job Type Job Status  \\\n",
      "0  PARK AVENUE SOUTH                   857   38  1016890       A2          D   \n",
      "1  KNOX PLACE                          342    1  5161350       A3          A   \n",
      "2  WEST 131 STREET                    1729    9  1053831       A2          Q   \n",
      "3  WEST 25TH STREET                    826   69  1015610       A2          D   \n",
      "4  WEST 29 STREET                      831    7  1015754       A3          D   \n",
      "\n",
      "            ...                         Owner's Last Name  \\\n",
      "0           ...            MIGLIORE                         \n",
      "1           ...            BLUMENBERG                       \n",
      "2           ...            MARKOWITZ                        \n",
      "3           ...            CASALE                           \n",
      "4           ...            LEE                              \n",
      "\n",
      "              Owner's Business Name Owner's House Number  \\\n",
      "0  MACKLOWE MANAGEMENT                      126            \n",
      "1  NA                                       107            \n",
      "2  635 RIVERSIDE DRIVE NY LLC               619            \n",
      "3  48 W 25 ST LLC C/O BERNSTEIN             150            \n",
      "4  HYUNG-HYANG REALTY CORP                  614            \n",
      "\n",
      "           Owner'sHouse Street Name            City  State    Zip  \\\n",
      "0  EAST 56TH STREET                  NEW YORK           NY  10222   \n",
      "1  KNOX PLACE                        STATEN ISLAND      NY  10314   \n",
      "2  WEST 54TH STREET                  NEW YORK           NY  10016   \n",
      "3  WEST 30TH STREET                  NEW YORK           NY  10001   \n",
      "4  8 AVENUE                          NEW YORK           NY  10001   \n",
      "\n",
      "  Owner'sPhone #                                    Job Description  \\\n",
      "0     2125545837  GENERAL MECHANICAL & PLUMBING MODIFICATIONS AS...   \n",
      "1     3477398892  BUILDERS PAVEMENT PLAN 143 LF.                ...   \n",
      "2     2127652555  GENERAL CONSTRUCTION TO INCLUDE NEW PARTITIONS...   \n",
      "3     2125941414  STRUCTURAL CHANGES ON THE 5TH FLOOR (MOONDOG E...   \n",
      "4     2019881222  FILING HEREWITH FACADE REPAIR PLANS. WORK SCOP...   \n",
      "\n",
      "               DOBRunDate  \n",
      "0  04/26/2013 12:00:00 AM  \n",
      "1  04/26/2013 12:00:00 AM  \n",
      "2  04/26/2013 12:00:00 AM  \n",
      "3  04/26/2013 12:00:00 AM  \n",
      "4  04/26/2013 12:00:00 AM  \n",
      "\n",
      "[5 rows x 82 columns]\n",
      "Tail:\n",
      "            Job #  Doc #        Borough       House #  \\\n",
      "12841  520143988      1  STATEN ISLAND  8              \n",
      "12842  121613833      1      MANHATTAN  724            \n",
      "12843  121681260      1      MANHATTAN  350            \n",
      "12844  320771704      1       BROOKLYN  499            \n",
      "12845  520143951      1  STATEN ISLAND  1755           \n",
      "\n",
      "                            Street Name  Block  Lot    Bin # Job Type  \\\n",
      "12841  NOEL STREET                        5382   20  5069722       A2   \n",
      "12842  10 AVENUE                          1059    4  1082503       A2   \n",
      "12843  MANHATTAN AVE.                     1848   31  1055849       A2   \n",
      "12844  UNION STREET                        431   43  3007185       A2   \n",
      "12845  RICHMOND ROAD                       887   28  5022931       A2   \n",
      "\n",
      "      Job Status           ...                         Owner's Last Name  \\\n",
      "12841          D           ...            MALITO                           \n",
      "12842          D           ...            CROMAN                           \n",
      "12843          A           ...            ARYEH                            \n",
      "12844          D           ...            WIGGINS                          \n",
      "12845          D           ...            CAMBRIA                          \n",
      "\n",
      "                  Owner's Business Name Owner's House Number  \\\n",
      "12841  GENO MALITO                              8              \n",
      "12842  722-724 10TH AVENUE HOLDING LLC          632            \n",
      "12843  DG UWS LLC                               619            \n",
      "12844  N/A                                      77             \n",
      "12845  RONALD CAMBRIA                           1755           \n",
      "\n",
      "               Owner'sHouse Street Name            City  State    Zip  \\\n",
      "12841  NOEL STREET                       STATEN ISLAND      NY  10312   \n",
      "12842  BROADWAY                          NEW YORK           NY  10012   \n",
      "12843  WEST 54TH STREET                  NEW YORK           NY  10019   \n",
      "12844  PROSPECT PLACE                    BROOKLYN           NY  11217   \n",
      "12845  RICHMOND ROAD                     STATEN ISLAND      NY  10304   \n",
      "\n",
      "      Owner'sPhone #                                    Job Description  \\\n",
      "12841     9174685659  HORIZONTAL ENLARGEMENT OF ATTACHED ONE CAR GAR...   \n",
      "12842     2122289300  RENOVATION OF EXISTING APARTMENT #3B ON THIRD ...   \n",
      "12843     2127652555  REPLACE BURNER IN EXSTG BOILER WITH NEW GAS BU...   \n",
      "12844     9178487799  INSTALL NEW SPRINKLER SYSTEM THROUGHOUT THE BU...   \n",
      "12845     7184482740  INTERIOR PARTITIONS AND MINOR PLUMBING WORK TO...   \n",
      "\n",
      "                   DOBRunDate  \n",
      "12841  06/13/2013 12:00:00 AM  \n",
      "12842  06/13/2013 12:00:00 AM  \n",
      "12843  06/13/2013 12:00:00 AM  \n",
      "12844  06/13/2013 12:00:00 AM  \n",
      "12845  06/13/2013 12:00:00 AM  \n",
      "\n",
      "[5 rows x 82 columns]\n",
      "Shape:\n",
      " (12846, 82)\n",
      "Columns:\n",
      " Index(['Job #', 'Doc #', 'Borough', 'House #', 'Street Name', 'Block', 'Lot',\n",
      "       'Bin #', 'Job Type', 'Job Status', 'Job Status Descrp',\n",
      "       'Latest Action Date', 'Building Type', 'Community - Board', 'Cluster',\n",
      "       'Landmarked', 'Adult Estab', 'Loft Board', 'City Owned', 'Little e',\n",
      "       'PC Filed', 'eFiling Filed', 'Plumbing', 'Mechanical', 'Boiler',\n",
      "       'Fuel Burning', 'Fuel Storage', 'Standpipe', 'Sprinkler', 'Fire Alarm',\n",
      "       'Equipment', 'Fire Suppression', 'Curb Cut', 'Other',\n",
      "       'Other Description', 'Applicant's First Name', 'Applicant's Last Name',\n",
      "       'Applicant Professional Title', 'Applicant License #',\n",
      "       'Professional Cert', 'Pre- Filing Date', 'Paid', 'Fully Paid',\n",
      "       'Assigned', 'Approved', 'Fully Permitted', 'Initial Cost',\n",
      "       'Total Est. Fee', 'Fee Status', 'Existing Zoning Sqft',\n",
      "       'Proposed Zoning Sqft', 'Horizontal Enlrgmt', 'Vertical Enlrgmt',\n",
      "       'Enlargement SQ Footage', 'Street Frontage', 'ExistingNo. of Stories',\n",
      "       'Proposed No. of Stories', 'Existing Height', 'Proposed Height',\n",
      "       'Existing Dwelling Units', 'Proposed Dwelling Units',\n",
      "       'Existing Occupancy', 'Proposed Occupancy', 'Site Fill', 'Zoning Dist1',\n",
      "       'Zoning Dist2', 'Zoning Dist3', 'Special District 1',\n",
      "       'Special District 2', 'Owner Type', 'Non-Profit', 'Owner's First Name',\n",
      "       'Owner's Last Name', 'Owner's Business Name', 'Owner's House Number',\n",
      "       'Owner'sHouse Street Name', 'City ', 'State', 'Zip', 'Owner'sPhone #',\n",
      "       'Job Description', 'DOBRunDate'],\n",
      "      dtype='object')\n"
     ]
    },
    {
     "name": "stderr",
     "output_type": "stream",
     "text": [
      "/Applications/anaconda3/lib/python3.6/site-packages/IPython/core/interactiveshell.py:2785: DtypeWarning: Columns (16) have mixed types. Specify dtype option on import or set low_memory=False.\n",
      "  interactivity=interactivity, compiler=compiler, result=result)\n"
     ]
    }
   ],
   "source": [
    "# Import pandas\n",
    "import pandas as pd\n",
    "\n",
    "# Read the file into a DF: df\n",
    "df = pd.read_csv('data/dob_job_application_filings_subset.csv')\n",
    "\n",
    "# Print the head, tail, shape, and columns of df\n",
    "print('Head:\\n', df.head())\n",
    "print('Tail:\\n', df.tail())\n",
    "print('Shape:\\n', df.shape) #shape is an attribute, not method, so no () is required after\n",
    "print('Columns:\\n', df.columns) #column is an attribute, not method, so no () is required after"
   ]
  },
  {
   "cell_type": "code",
   "execution_count": 3,
   "metadata": {},
   "outputs": [
    {
     "name": "stdout",
     "output_type": "stream",
     "text": [
      "Head:\n",
      "        Job #  Doc #        Borough Initial Cost Total Est. Fee  \\\n",
      "0  121577873      2      MANHATTAN    $75000.00        $986.00   \n",
      "1  520129502      1  STATEN ISLAND        $0.00       $1144.00   \n",
      "2  121601560      1      MANHATTAN    $30000.00        $522.50   \n",
      "3  121601203      1      MANHATTAN     $1500.00        $225.00   \n",
      "4  121601338      1      MANHATTAN    $19500.00        $389.50   \n",
      "\n",
      "   Existing Zoning Sqft  Proposed Zoning Sqft  Enlargement SQ Footage  \\\n",
      "0                     0                     0                       0   \n",
      "1                     0                     0                       0   \n",
      "2                     0                     0                       0   \n",
      "3                     0                     0                       0   \n",
      "4                     0                     0                       0   \n",
      "\n",
      "   Street Frontage  ExistingNo. of Stories  Proposed No. of Stories  \\\n",
      "0                0                       0                        0   \n",
      "1              143                       0                        0   \n",
      "2                0                       5                        5   \n",
      "3                0                      12                       12   \n",
      "4                0                       6                        6   \n",
      "\n",
      "   Existing Height  Proposed Height  \n",
      "0                0                0  \n",
      "1                0                0  \n",
      "2               54               54  \n",
      "3              120              120  \n",
      "4               64               64  \n",
      "Tail:\n",
      "            Job #  Doc #        Borough Initial Cost Total Est. Fee  \\\n",
      "12841  520143988      1  STATEN ISLAND    $30700.00        $448.62   \n",
      "12842  121613833      1      MANHATTAN    $62000.00        $852.10   \n",
      "12843  121681260      1      MANHATTAN   $166000.00       $1923.30   \n",
      "12844  320771704      1       BROOKLYN    $65000.00        $883.00   \n",
      "12845  520143951      1  STATEN ISLAND     $9500.00        $316.50   \n",
      "\n",
      "       Existing Zoning Sqft  Proposed Zoning Sqft  Enlargement SQ Footage  \\\n",
      "12841                  1490                  1782                     206   \n",
      "12842                     0                     0                       0   \n",
      "12843                     0                     0                       0   \n",
      "12844                     0                     0                       0   \n",
      "12845                     0                     0                       0   \n",
      "\n",
      "       Street Frontage  ExistingNo. of Stories  Proposed No. of Stories  \\\n",
      "12841                0                       1                        1   \n",
      "12842                0                       5                        5   \n",
      "12843                0                       6                        6   \n",
      "12844                0                       1                        1   \n",
      "12845                0                       1                        1   \n",
      "\n",
      "       Existing Height  Proposed Height  \n",
      "12841               10               10  \n",
      "12842               55               55  \n",
      "12843               64               64  \n",
      "12844               18               18  \n",
      "12845               18               18  \n",
      "shape:\n",
      " (12846, 13)\n",
      "columns:\n",
      " Index(['Job #', 'Doc #', 'Borough', 'Initial Cost', 'Total Est. Fee',\n",
      "       'Existing Zoning Sqft', 'Proposed Zoning Sqft',\n",
      "       'Enlargement SQ Footage', 'Street Frontage', 'ExistingNo. of Stories',\n",
      "       'Proposed No. of Stories', 'Existing Height', 'Proposed Height'],\n",
      "      dtype='object')\n"
     ]
    }
   ],
   "source": [
    "# Subset df --> df_subset\n",
    "df_subset = df[['Job #', 'Doc #', 'Borough', 'Initial Cost', 'Total Est. Fee', 'Existing Zoning Sqft',\\\n",
    "               'Proposed Zoning Sqft', 'Enlargement SQ Footage', 'Street Frontage', 'ExistingNo. of Stories',\\\n",
    "               'Proposed No. of Stories', 'Existing Height', 'Proposed Height']]\n",
    "\n",
    "# Print the head, tail, shape, and columns of df_subset\n",
    "print('Head:\\n', df_subset.head())\n",
    "print('Tail:\\n', df_subset.tail())\n",
    "print('shape:\\n', df_subset.shape) #shape is an attribute, not method, so no () is required after\n",
    "print('columns:\\n', df_subset.columns) #column is an attribute, not method, so no () is required after"
   ]
  },
  {
   "cell_type": "code",
   "execution_count": 30,
   "metadata": {},
   "outputs": [
    {
     "name": "stdout",
     "output_type": "stream",
     "text": [
      "<class 'pandas.core.frame.DataFrame'>\n",
      "RangeIndex: 12846 entries, 0 to 12845\n",
      "Data columns (total 13 columns):\n",
      "Job #                      12846 non-null int64\n",
      "Doc #                      12846 non-null int64\n",
      "Borough                    12846 non-null object\n",
      "Initial Cost               12846 non-null object\n",
      "Total Est. Fee             12846 non-null object\n",
      "Existing Zoning Sqft       12846 non-null int64\n",
      "Proposed Zoning Sqft       12846 non-null int64\n",
      "Enlargement SQ Footage     12846 non-null int64\n",
      "Street Frontage            12846 non-null int64\n",
      "ExistingNo. of Stories     12846 non-null int64\n",
      "Proposed No. of Stories    12846 non-null int64\n",
      "Existing Height            12846 non-null int64\n",
      "Proposed Height            12846 non-null int64\n",
      "dtypes: int64(10), object(3)\n",
      "memory usage: 1.3+ MB\n",
      "None\n"
     ]
    }
   ],
   "source": [
    "# Print the info of df_subset\n",
    "print(df_subset.info())"
   ]
  },
  {
   "cell_type": "code",
   "execution_count": 34,
   "metadata": {},
   "outputs": [
    {
     "data": {
      "text/html": [
       "<div>\n",
       "<style scoped>\n",
       "    .dataframe tbody tr th:only-of-type {\n",
       "        vertical-align: middle;\n",
       "    }\n",
       "\n",
       "    .dataframe tbody tr th {\n",
       "        vertical-align: top;\n",
       "    }\n",
       "\n",
       "    .dataframe thead th {\n",
       "        text-align: right;\n",
       "    }\n",
       "</style>\n",
       "<table border=\"1\" class=\"dataframe\">\n",
       "  <thead>\n",
       "    <tr style=\"text-align: right;\">\n",
       "      <th></th>\n",
       "      <th>Initial Cost</th>\n",
       "      <th>Total Est. Fee</th>\n",
       "    </tr>\n",
       "  </thead>\n",
       "  <tbody>\n",
       "    <tr>\n",
       "      <th>0</th>\n",
       "      <td>$75000.00</td>\n",
       "      <td>$986.00</td>\n",
       "    </tr>\n",
       "    <tr>\n",
       "      <th>1</th>\n",
       "      <td>$0.00</td>\n",
       "      <td>$1144.00</td>\n",
       "    </tr>\n",
       "    <tr>\n",
       "      <th>2</th>\n",
       "      <td>$30000.00</td>\n",
       "      <td>$522.50</td>\n",
       "    </tr>\n",
       "    <tr>\n",
       "      <th>3</th>\n",
       "      <td>$1500.00</td>\n",
       "      <td>$225.00</td>\n",
       "    </tr>\n",
       "    <tr>\n",
       "      <th>4</th>\n",
       "      <td>$19500.00</td>\n",
       "      <td>$389.50</td>\n",
       "    </tr>\n",
       "  </tbody>\n",
       "</table>\n",
       "</div>"
      ],
      "text/plain": [
       "  Initial Cost Total Est. Fee\n",
       "0    $75000.00        $986.00\n",
       "1        $0.00       $1144.00\n",
       "2    $30000.00        $522.50\n",
       "3     $1500.00        $225.00\n",
       "4    $19500.00        $389.50"
      ]
     },
     "execution_count": 34,
     "metadata": {},
     "output_type": "execute_result"
    }
   ],
   "source": [
    "# View the data to confirm if it's the wrong type - notice $ signs in data\n",
    "df_temp = df_subset[['Initial Cost', 'Total Est. Fee']]\n",
    "df_temp.head()"
   ]
  },
  {
   "cell_type": "code",
   "execution_count": 36,
   "metadata": {},
   "outputs": [
    {
     "data": {
      "text/plain": [
       "count    12846.000000\n",
       "mean        94.022809\n",
       "std        146.917360\n",
       "min          0.000000\n",
       "25%         20.000000\n",
       "50%         45.000000\n",
       "75%        105.000000\n",
       "max       4200.000000\n",
       "Name: Existing Height, dtype: float64"
      ]
     },
     "execution_count": 36,
     "metadata": {},
     "output_type": "execute_result"
    }
   ],
   "source": [
    "# Describe the column 'Existing Height'. Note: can only be used on numeric columns\n",
    "df['Existing Height'].describe()"
   ]
  },
  {
   "cell_type": "markdown",
   "metadata": {},
   "source": [
    "### Frequency counts for categorical data"
   ]
  },
  {
   "cell_type": "code",
   "execution_count": 40,
   "metadata": {},
   "outputs": [
    {
     "name": "stdout",
     "output_type": "stream",
     "text": [
      "MANHATTAN        6310\n",
      "BROOKLYN         2866\n",
      "QUEENS           2121\n",
      "BRONX             974\n",
      "STATEN ISLAND     575\n",
      "Name: Borough, dtype: int64\n",
      "NY    12391\n",
      "NJ      241\n",
      "PA       38\n",
      "CA       20\n",
      "OH       19\n",
      "FL       17\n",
      "IL       17\n",
      "CT       16\n",
      "TX       13\n",
      "TN       10\n",
      "MD        7\n",
      "DC        7\n",
      "KS        6\n",
      "MA        6\n",
      "GA        6\n",
      "VA        5\n",
      "CO        4\n",
      "MN        3\n",
      "SC        3\n",
      "AZ        3\n",
      "WI        3\n",
      "RI        2\n",
      "UT        2\n",
      "NC        2\n",
      "NM        1\n",
      "IN        1\n",
      "MI        1\n",
      "VT        1\n",
      "WA        1\n",
      "Name: State, dtype: int64\n",
      "NOT APPLICABLE                              7806\n",
      "NaN                                         4205\n",
      "ON-SITE                                      519\n",
      "OFF-SITE                                     186\n",
      "USE UNDER 300 CU.YD                          130\n",
      "Name: Site Fill, dtype: int64\n"
     ]
    }
   ],
   "source": [
    "# Print the value counts for 'Borough', 'State', and 'Site Fill'\n",
    "print(df['Borough'].value_counts(dropna=False))\n",
    "print(df['State'].value_counts(dropna=False))\n",
    "print(df['Site Fill'].value_counts(dropna=False))\n",
    "\n",
    "# Frequency counts give a good way to perform a sanity check on data...\n",
    "# eg why are there applications filled outside of NY when 12,846 records have the NY Burough"
   ]
  },
  {
   "cell_type": "markdown",
   "metadata": {},
   "source": [
    "### Visual exploratory data analysis"
   ]
  },
  {
   "cell_type": "markdown",
   "metadata": {},
   "source": [
    "#### Histogram - for single variables"
   ]
  },
  {
   "cell_type": "code",
   "execution_count": 43,
   "metadata": {},
   "outputs": [
    {
     "name": "stdout",
     "output_type": "stream",
     "text": [
      "count    1.284600e+04\n",
      "mean     1.439973e+03\n",
      "std      3.860757e+04\n",
      "min      0.000000e+00\n",
      "25%      0.000000e+00\n",
      "50%      0.000000e+00\n",
      "75%      0.000000e+00\n",
      "max      2.873107e+06\n",
      "Name: Existing Zoning Sqft, dtype: float64\n"
     ]
    },
    {
     "data": {
      "image/png": "[encoded data removed]",
      "text/plain": [
       "<Figure size 432x288 with 1 Axes>"
      ]
     },
     "metadata": {},
     "output_type": "display_data"
    }
   ],
   "source": [
    "# Import matplotlib.pyplot\n",
    "import matplotlib.pyplot as plt\n",
    "\n",
    "# Describe the column\n",
    "print(df['Existing Zoning Sqft'].describe())\n",
    "\n",
    "# Plot the histogram\n",
    "df['Existing Zoning Sqft'].plot(kind='hist', rot=70, logx=True, logy=True)\n",
    "\n",
    "# Display the histogram\n",
    "plt.show()"
   ]
  },
  {
   "cell_type": "markdown",
   "metadata": {},
   "source": [
    "#### Boxplot -  - for multiple variables"
   ]
  },
  {
   "cell_type": "code",
   "execution_count": null,
   "metadata": {},
   "outputs": [],
   "source": [
    "# Import packages\n",
    "import pandas as pd\n",
    "import matplotlib.pyplot as plt\n",
    "\n",
    "# Create the boxplot\n",
    "df.boxplot(column='Initial Cost', by='Borough', rot=70)\n",
    "\n",
    "# Display the plot\n",
    "plt.show()\n",
    "\n",
    "# Cell not ran because column 'Initial Cost' is not cleaned and throws an error - $ needs to be removed... later"
   ]
  },
  {
   "cell_type": "markdown",
   "metadata": {},
   "source": [
    "#### Scatter plot  - for multiple variables"
   ]
  },
  {
   "cell_type": "code",
   "execution_count": null,
   "metadata": {},
   "outputs": [],
   "source": [
    "# Create and display the scatter plot\n",
    "df.plot(type='scatter', x='Initial Cost', y='Total Est. Fee', rot=70)\n",
    "plt.show()\n",
    "\n",
    "# Cell not ran because column data not cleaned and throws an error... covered later in course"
   ]
  },
  {
   "cell_type": "markdown",
   "metadata": {},
   "source": [
    "### Tidy data for analysis"
   ]
  },
  {
   "cell_type": "markdown",
   "metadata": {},
   "source": [
    "##### For data to be tidy, it must have:\n",
    "    -Each variable as a seperate column\n",
    "    -Each row as a seperate observation"
   ]
  },
  {
   "cell_type": "markdown",
   "metadata": {},
   "source": [
    "#### Melt data"
   ]
  },
  {
   "cell_type": "code",
   "execution_count": 22,
   "metadata": {},
   "outputs": [
    {
     "name": "stdout",
     "output_type": "stream",
     "text": [
      "   Ozone  Solar.R  Wind  Temp  Month  Day\n",
      "0   41.0    190.0   7.4    67      5    1\n",
      "1   36.0    118.0   8.0    72      5    2\n",
      "2   12.0    149.0  12.6    74      5    3\n",
      "3   18.0    313.0  11.5    62      5    4\n",
      "4    NaN      NaN  14.3    56      5    5\n",
      "\n",
      "\n",
      "   Month  Day measurement  reading\n",
      "0      5    1       Ozone     41.0\n",
      "1      5    2       Ozone     36.0\n",
      "2      5    3       Ozone     12.0\n",
      "3      5    4       Ozone     18.0\n",
      "4      5    5       Ozone      NaN\n"
     ]
    }
   ],
   "source": [
    "### The below data is being melted (transformed) from a tidy format to an untidy one\n",
    "\n",
    "# Import pacakges\n",
    "import pandas as pd\n",
    "\n",
    "# Read DF: airquality\n",
    "airquality = pd.read_csv('data/airquality.csv')\n",
    "\n",
    "# Print the head of airquality\n",
    "print(airquality.head())\n",
    "\n",
    "# Melt all columns of airquality but 'Month' & 'Day' to airquality_melt \n",
    "# then rename 'variable' to 'measurement' and rename 'value' to 'reading': \n",
    "airquality_melt = pd.melt(frame=airquality, id_vars=['Month', 'Day'],\\\n",
    "                          var_name='measurement', value_name='reading')\n",
    "\n",
    "print('\\n')\n",
    "\n",
    "# Print the head of airquality_melt\n",
    "print(airquality_melt.head())"
   ]
  },
  {
   "cell_type": "markdown",
   "metadata": {},
   "source": [
    "#### Pivot data"
   ]
  },
  {
   "cell_type": "code",
   "execution_count": 23,
   "metadata": {},
   "outputs": [
    {
     "name": "stdout",
     "output_type": "stream",
     "text": [
      "measurement  Ozone  Solar.R  Temp  Wind\n",
      "Month Day                              \n",
      "5     1       41.0    190.0  67.0   7.4\n",
      "      2       36.0    118.0  72.0   8.0\n",
      "      3       12.0    149.0  74.0  12.6\n",
      "      4       18.0    313.0  62.0  11.5\n",
      "      5        NaN      NaN  56.0  14.3\n"
     ]
    }
   ],
   "source": [
    "# Pivot airquality_melt: airquality_pivot\n",
    "# With rows indexed by 'Month' & 'Day', and columns indexed by 'measurement', and values populated with 'reading'\n",
    "airquality_pivot = pd.pivot_table(data=airquality_melt, index=['Month', 'Day'],\\\n",
    "                                  columns='measurement', values='reading')\n",
    "\n",
    "print(airquality_pivot.head())"
   ]
  },
  {
   "cell_type": "markdown",
   "metadata": {},
   "source": [
    "#### Resetting the index of a DataFrame"
   ]
  },
  {
   "cell_type": "code",
   "execution_count": 32,
   "metadata": {},
   "outputs": [
    {
     "name": "stdout",
     "output_type": "stream",
     "text": [
      "MultiIndex(levels=[[5, 6, 7, 8, 9], [1, 2, 3, 4, 5, 6, 7, 8, 9, 10, 11, 12, 13, 14, 15, 16, 17, 18, 19, 20, 21, 22, 23, 24, 25, 26, 27, 28, 29, 30, 31]],\n",
      "           labels=[[0, 0, 0, 0, 0, 0, 0, 0, 0, 0, 0, 0, 0, 0, 0, 0, 0, 0, 0, 0, 0, 0, 0, 0, 0, 0, 0, 0, 0, 0, 0, 1, 1, 1, 1, 1, 1, 1, 1, 1, 1, 1, 1, 1, 1, 1, 1, 1, 1, 1, 1, 1, 1, 1, 1, 1, 1, 1, 1, 1, 1, 2, 2, 2, 2, 2, 2, 2, 2, 2, 2, 2, 2, 2, 2, 2, 2, 2, 2, 2, 2, 2, 2, 2, 2, 2, 2, 2, 2, 2, 2, 2, 3, 3, 3, 3, 3, 3, 3, 3, 3, 3, 3, 3, 3, 3, 3, 3, 3, 3, 3, 3, 3, 3, 3, 3, 3, 3, 3, 3, 3, 3, 3, 4, 4, 4, 4, 4, 4, 4, 4, 4, 4, 4, 4, 4, 4, 4, 4, 4, 4, 4, 4, 4, 4, 4, 4, 4, 4, 4, 4, 4, 4], [0, 1, 2, 3, 4, 5, 6, 7, 8, 9, 10, 11, 12, 13, 14, 15, 16, 17, 18, 19, 20, 21, 22, 23, 24, 25, 26, 27, 28, 29, 30, 0, 1, 2, 3, 4, 5, 6, 7, 8, 9, 10, 11, 12, 13, 14, 15, 16, 17, 18, 19, 20, 21, 22, 23, 24, 25, 26, 27, 28, 29, 0, 1, 2, 3, 4, 5, 6, 7, 8, 9, 10, 11, 12, 13, 14, 15, 16, 17, 18, 19, 20, 21, 22, 23, 24, 25, 26, 27, 28, 29, 30, 0, 1, 2, 3, 4, 5, 6, 7, 8, 9, 10, 11, 12, 13, 14, 15, 16, 17, 18, 19, 20, 21, 22, 23, 24, 25, 26, 27, 28, 29, 30, 0, 1, 2, 3, 4, 5, 6, 7, 8, 9, 10, 11, 12, 13, 14, 15, 16, 17, 18, 19, 20, 21, 22, 23, 24, 25, 26, 27, 28, 29]],\n",
      "           names=['Month', 'Day'])\n",
      "RangeIndex(start=0, stop=153, step=1)\n",
      "\n",
      " measurement  Month  Day  Ozone  Solar.R  Temp  Wind\n",
      "0                5    1   41.0    190.0  67.0   7.4\n",
      "1                5    2   36.0    118.0  72.0   8.0\n",
      "2                5    3   12.0    149.0  74.0  12.6\n",
      "3                5    4   18.0    313.0  62.0  11.5\n",
      "4                5    5    NaN      NaN  56.0  14.3\n"
     ]
    }
   ],
   "source": [
    "# Put DF back into its original form\n",
    "\n",
    "# Print the index of airquality_pivot\n",
    "print(airquality_pivot.index)\n",
    "\n",
    "# Reset the index of airquality_pivot: airquality_pivot_reset\n",
    "airquality_pivot_reset = airquality_pivot.reset_index()\n",
    "\n",
    "# Print the new index of airquality_pivot_reset\n",
    "print(airquality_pivot_reset.index)\n",
    "\n",
    "# Print the head of airquality_pivot_reset\n",
    "print('\\n', airquality_pivot_reset.head())"
   ]
  },
  {
   "cell_type": "markdown",
   "metadata": {},
   "source": [
    "#### Pivoting duplicate values"
   ]
  },
  {
   "cell_type": "code",
   "execution_count": 115,
   "metadata": {},
   "outputs": [
    {
     "name": "stdout",
     "output_type": "stream",
     "text": [
      "measurement  Ozone  Solar.R  Temp  Wind\n",
      "Month Day                              \n",
      "5     1       41.0    190.0  67.0   7.4\n",
      "      2       36.0    118.0  72.0   8.0\n",
      "      3       12.0    149.0  74.0  12.6\n",
      "      4       18.0    313.0  62.0  11.5\n",
      "      5        NaN      NaN  56.0  14.3\n",
      "measurement  Month  Day  Ozone  Solar.R  Temp  Wind\n",
      "0                5    1   41.0    190.0  67.0   7.4\n",
      "1                5    2   36.0    118.0  72.0   8.0\n",
      "2                5    3   12.0    149.0  74.0  12.6\n",
      "3                5    4   18.0    313.0  62.0  11.5\n",
      "4                5    5    NaN      NaN  56.0  14.3\n",
      "   Ozone  Solar.R  Wind  Temp  Month  Day\n",
      "0   41.0    190.0   7.4    67      5    1\n",
      "1   36.0    118.0   8.0    72      5    2\n",
      "2   12.0    149.0  12.6    74      5    3\n",
      "3   18.0    313.0  11.5    62      5    4\n",
      "4    NaN      NaN  14.3    56      5    5\n"
     ]
    }
   ],
   "source": [
    "# Note: airquality_dup isn't available, so airquality_melt is used instead for demo (doesn't contain duplicates)\n",
    "# The aggfunction tells python how to handle duplicate values. In this case, we take the mean (also the default). \n",
    "\n",
    "# Import packages\n",
    "import numpy as np\n",
    "\n",
    "# Pivot table the airquality_dup: airquality_pivot\n",
    "airquality_pivot = pd.pivot_table(data=airquality_melt, index=['Month', 'Day'],\\\n",
    "                                  columns='measurement', values='reading', aggfunc=np.mean)\n",
    "\n",
    "# Print the head of airquality_pivot before reset_index\n",
    "print(airquality_pivot.head())\n",
    "\n",
    "# Reset the index of airquality_pivot\n",
    "airquality_pivot = airquality_pivot.reset_index()\n",
    "\n",
    "\n",
    "# Print the head of airquality_pivot\n",
    "print(airquality_pivot.head())\n",
    "\n",
    "# Print the head of airquality\n",
    "print(airquality.head())"
   ]
  },
  {
   "cell_type": "markdown",
   "metadata": {},
   "source": [
    "#### Splitting a colum"
   ]
  },
  {
   "cell_type": "code",
   "execution_count": 39,
   "metadata": {},
   "outputs": [
    {
     "data": {
      "text/html": [
       "<div>\n",
       "<style scoped>\n",
       "    .dataframe tbody tr th:only-of-type {\n",
       "        vertical-align: middle;\n",
       "    }\n",
       "\n",
       "    .dataframe tbody tr th {\n",
       "        vertical-align: top;\n",
       "    }\n",
       "\n",
       "    .dataframe thead th {\n",
       "        text-align: right;\n",
       "    }\n",
       "</style>\n",
       "<table border=\"1\" class=\"dataframe\">\n",
       "  <thead>\n",
       "    <tr style=\"text-align: right;\">\n",
       "      <th></th>\n",
       "      <th>country</th>\n",
       "      <th>year</th>\n",
       "      <th>m014</th>\n",
       "      <th>m1524</th>\n",
       "      <th>m2534</th>\n",
       "      <th>m3544</th>\n",
       "      <th>m4554</th>\n",
       "      <th>m5564</th>\n",
       "      <th>m65</th>\n",
       "      <th>mu</th>\n",
       "      <th>f014</th>\n",
       "      <th>f1524</th>\n",
       "      <th>f2534</th>\n",
       "      <th>f3544</th>\n",
       "      <th>f4554</th>\n",
       "      <th>f5564</th>\n",
       "      <th>f65</th>\n",
       "      <th>fu</th>\n",
       "    </tr>\n",
       "  </thead>\n",
       "  <tbody>\n",
       "    <tr>\n",
       "      <th>0</th>\n",
       "      <td>AD</td>\n",
       "      <td>2000</td>\n",
       "      <td>0.0</td>\n",
       "      <td>0.0</td>\n",
       "      <td>1.0</td>\n",
       "      <td>0.0</td>\n",
       "      <td>0.0</td>\n",
       "      <td>0.0</td>\n",
       "      <td>0.0</td>\n",
       "      <td>NaN</td>\n",
       "      <td>NaN</td>\n",
       "      <td>NaN</td>\n",
       "      <td>NaN</td>\n",
       "      <td>NaN</td>\n",
       "      <td>NaN</td>\n",
       "      <td>NaN</td>\n",
       "      <td>NaN</td>\n",
       "      <td>NaN</td>\n",
       "    </tr>\n",
       "    <tr>\n",
       "      <th>1</th>\n",
       "      <td>AE</td>\n",
       "      <td>2000</td>\n",
       "      <td>2.0</td>\n",
       "      <td>4.0</td>\n",
       "      <td>4.0</td>\n",
       "      <td>6.0</td>\n",
       "      <td>5.0</td>\n",
       "      <td>12.0</td>\n",
       "      <td>10.0</td>\n",
       "      <td>NaN</td>\n",
       "      <td>3.0</td>\n",
       "      <td>16.0</td>\n",
       "      <td>1.0</td>\n",
       "      <td>3.0</td>\n",
       "      <td>0.0</td>\n",
       "      <td>0.0</td>\n",
       "      <td>4.0</td>\n",
       "      <td>NaN</td>\n",
       "    </tr>\n",
       "    <tr>\n",
       "      <th>2</th>\n",
       "      <td>AF</td>\n",
       "      <td>2000</td>\n",
       "      <td>52.0</td>\n",
       "      <td>228.0</td>\n",
       "      <td>183.0</td>\n",
       "      <td>149.0</td>\n",
       "      <td>129.0</td>\n",
       "      <td>94.0</td>\n",
       "      <td>80.0</td>\n",
       "      <td>NaN</td>\n",
       "      <td>93.0</td>\n",
       "      <td>414.0</td>\n",
       "      <td>565.0</td>\n",
       "      <td>339.0</td>\n",
       "      <td>205.0</td>\n",
       "      <td>99.0</td>\n",
       "      <td>36.0</td>\n",
       "      <td>NaN</td>\n",
       "    </tr>\n",
       "    <tr>\n",
       "      <th>3</th>\n",
       "      <td>AG</td>\n",
       "      <td>2000</td>\n",
       "      <td>0.0</td>\n",
       "      <td>0.0</td>\n",
       "      <td>0.0</td>\n",
       "      <td>0.0</td>\n",
       "      <td>0.0</td>\n",
       "      <td>0.0</td>\n",
       "      <td>1.0</td>\n",
       "      <td>NaN</td>\n",
       "      <td>1.0</td>\n",
       "      <td>1.0</td>\n",
       "      <td>1.0</td>\n",
       "      <td>0.0</td>\n",
       "      <td>0.0</td>\n",
       "      <td>0.0</td>\n",
       "      <td>0.0</td>\n",
       "      <td>NaN</td>\n",
       "    </tr>\n",
       "    <tr>\n",
       "      <th>4</th>\n",
       "      <td>AL</td>\n",
       "      <td>2000</td>\n",
       "      <td>2.0</td>\n",
       "      <td>19.0</td>\n",
       "      <td>21.0</td>\n",
       "      <td>14.0</td>\n",
       "      <td>24.0</td>\n",
       "      <td>19.0</td>\n",
       "      <td>16.0</td>\n",
       "      <td>NaN</td>\n",
       "      <td>3.0</td>\n",
       "      <td>11.0</td>\n",
       "      <td>10.0</td>\n",
       "      <td>8.0</td>\n",
       "      <td>8.0</td>\n",
       "      <td>5.0</td>\n",
       "      <td>11.0</td>\n",
       "      <td>NaN</td>\n",
       "    </tr>\n",
       "  </tbody>\n",
       "</table>\n",
       "</div>"
      ],
      "text/plain": [
       "  country  year  m014  m1524  m2534  m3544  m4554  m5564   m65  mu  f014  \\\n",
       "0      AD  2000   0.0    0.0    1.0    0.0    0.0    0.0   0.0 NaN   NaN   \n",
       "1      AE  2000   2.0    4.0    4.0    6.0    5.0   12.0  10.0 NaN   3.0   \n",
       "2      AF  2000  52.0  228.0  183.0  149.0  129.0   94.0  80.0 NaN  93.0   \n",
       "3      AG  2000   0.0    0.0    0.0    0.0    0.0    0.0   1.0 NaN   1.0   \n",
       "4      AL  2000   2.0   19.0   21.0   14.0   24.0   19.0  16.0 NaN   3.0   \n",
       "\n",
       "   f1524  f2534  f3544  f4554  f5564   f65  fu  \n",
       "0    NaN    NaN    NaN    NaN    NaN   NaN NaN  \n",
       "1   16.0    1.0    3.0    0.0    0.0   4.0 NaN  \n",
       "2  414.0  565.0  339.0  205.0   99.0  36.0 NaN  \n",
       "3    1.0    1.0    0.0    0.0    0.0   0.0 NaN  \n",
       "4   11.0   10.0    8.0    8.0    5.0  11.0 NaN  "
      ]
     },
     "execution_count": 39,
     "metadata": {},
     "output_type": "execute_result"
    }
   ],
   "source": [
    "# Load tb.csv into tb\n",
    "tb = pd.read_csv('data/tb.csv')\n",
    "\n",
    "tb.head()"
   ]
  },
  {
   "cell_type": "code",
   "execution_count": 48,
   "metadata": {},
   "outputs": [
    {
     "name": "stdout",
     "output_type": "stream",
     "text": [
      "  country  year variable  value\n",
      "0      AD  2000     m014    0.0\n",
      "1      AE  2000     m014    2.0\n",
      "2      AF  2000     m014   52.0\n",
      "3      AG  2000     m014    0.0\n",
      "4      AL  2000     m014    2.0\n",
      "     country  year variable  value\n",
      "3211      YE  2000       fu    NaN\n",
      "3212      YU  2000       fu    NaN\n",
      "3213      ZA  2000       fu    NaN\n",
      "3214      ZM  2000       fu    NaN\n",
      "3215      ZW  2000       fu    NaN\n"
     ]
    }
   ],
   "source": [
    "# Melt tb: tb_melt\n",
    "# Keeping 'country' and 'year' fixed\n",
    "tb_melt = pd.melt(frame=tb, id_vars=['country', 'year'])\n",
    "print(tb_melt.head())\n",
    "print(tb_melt.tail())"
   ]
  },
  {
   "cell_type": "code",
   "execution_count": 50,
   "metadata": {},
   "outputs": [
    {
     "data": {
      "text/html": [
       "<div>\n",
       "<style scoped>\n",
       "    .dataframe tbody tr th:only-of-type {\n",
       "        vertical-align: middle;\n",
       "    }\n",
       "\n",
       "    .dataframe tbody tr th {\n",
       "        vertical-align: top;\n",
       "    }\n",
       "\n",
       "    .dataframe thead th {\n",
       "        text-align: right;\n",
       "    }\n",
       "</style>\n",
       "<table border=\"1\" class=\"dataframe\">\n",
       "  <thead>\n",
       "    <tr style=\"text-align: right;\">\n",
       "      <th></th>\n",
       "      <th>country</th>\n",
       "      <th>year</th>\n",
       "      <th>variable</th>\n",
       "      <th>value</th>\n",
       "      <th>gender</th>\n",
       "    </tr>\n",
       "  </thead>\n",
       "  <tbody>\n",
       "    <tr>\n",
       "      <th>0</th>\n",
       "      <td>AD</td>\n",
       "      <td>2000</td>\n",
       "      <td>m014</td>\n",
       "      <td>0.0</td>\n",
       "      <td>m</td>\n",
       "    </tr>\n",
       "    <tr>\n",
       "      <th>1</th>\n",
       "      <td>AE</td>\n",
       "      <td>2000</td>\n",
       "      <td>m014</td>\n",
       "      <td>2.0</td>\n",
       "      <td>m</td>\n",
       "    </tr>\n",
       "    <tr>\n",
       "      <th>2</th>\n",
       "      <td>AF</td>\n",
       "      <td>2000</td>\n",
       "      <td>m014</td>\n",
       "      <td>52.0</td>\n",
       "      <td>m</td>\n",
       "    </tr>\n",
       "    <tr>\n",
       "      <th>3</th>\n",
       "      <td>AG</td>\n",
       "      <td>2000</td>\n",
       "      <td>m014</td>\n",
       "      <td>0.0</td>\n",
       "      <td>m</td>\n",
       "    </tr>\n",
       "    <tr>\n",
       "      <th>4</th>\n",
       "      <td>AL</td>\n",
       "      <td>2000</td>\n",
       "      <td>m014</td>\n",
       "      <td>2.0</td>\n",
       "      <td>m</td>\n",
       "    </tr>\n",
       "  </tbody>\n",
       "</table>\n",
       "</div>"
      ],
      "text/plain": [
       "  country  year variable  value gender\n",
       "0      AD  2000     m014    0.0      m\n",
       "1      AE  2000     m014    2.0      m\n",
       "2      AF  2000     m014   52.0      m\n",
       "3      AG  2000     m014    0.0      m\n",
       "4      AL  2000     m014    2.0      m"
      ]
     },
     "execution_count": 50,
     "metadata": {},
     "output_type": "execute_result"
    }
   ],
   "source": [
    "# Create a 'gender' column\n",
    "tb_melt['gender'] = tb_melt.variable.str[0]\n",
    "tb_melt.head()"
   ]
  },
  {
   "cell_type": "code",
   "execution_count": 55,
   "metadata": {},
   "outputs": [
    {
     "data": {
      "text/html": [
       "<div>\n",
       "<style scoped>\n",
       "    .dataframe tbody tr th:only-of-type {\n",
       "        vertical-align: middle;\n",
       "    }\n",
       "\n",
       "    .dataframe tbody tr th {\n",
       "        vertical-align: top;\n",
       "    }\n",
       "\n",
       "    .dataframe thead th {\n",
       "        text-align: right;\n",
       "    }\n",
       "</style>\n",
       "<table border=\"1\" class=\"dataframe\">\n",
       "  <thead>\n",
       "    <tr style=\"text-align: right;\">\n",
       "      <th></th>\n",
       "      <th>country</th>\n",
       "      <th>year</th>\n",
       "      <th>variable</th>\n",
       "      <th>value</th>\n",
       "      <th>gender</th>\n",
       "      <th>age_group</th>\n",
       "    </tr>\n",
       "  </thead>\n",
       "  <tbody>\n",
       "    <tr>\n",
       "      <th>0</th>\n",
       "      <td>AD</td>\n",
       "      <td>2000</td>\n",
       "      <td>m014</td>\n",
       "      <td>0.0</td>\n",
       "      <td>m</td>\n",
       "      <td>014</td>\n",
       "    </tr>\n",
       "    <tr>\n",
       "      <th>1</th>\n",
       "      <td>AE</td>\n",
       "      <td>2000</td>\n",
       "      <td>m014</td>\n",
       "      <td>2.0</td>\n",
       "      <td>m</td>\n",
       "      <td>014</td>\n",
       "    </tr>\n",
       "    <tr>\n",
       "      <th>2</th>\n",
       "      <td>AF</td>\n",
       "      <td>2000</td>\n",
       "      <td>m014</td>\n",
       "      <td>52.0</td>\n",
       "      <td>m</td>\n",
       "      <td>014</td>\n",
       "    </tr>\n",
       "    <tr>\n",
       "      <th>3</th>\n",
       "      <td>AG</td>\n",
       "      <td>2000</td>\n",
       "      <td>m014</td>\n",
       "      <td>0.0</td>\n",
       "      <td>m</td>\n",
       "      <td>014</td>\n",
       "    </tr>\n",
       "    <tr>\n",
       "      <th>4</th>\n",
       "      <td>AL</td>\n",
       "      <td>2000</td>\n",
       "      <td>m014</td>\n",
       "      <td>2.0</td>\n",
       "      <td>m</td>\n",
       "      <td>014</td>\n",
       "    </tr>\n",
       "  </tbody>\n",
       "</table>\n",
       "</div>"
      ],
      "text/plain": [
       "  country  year variable  value gender age_group\n",
       "0      AD  2000     m014    0.0      m       014\n",
       "1      AE  2000     m014    2.0      m       014\n",
       "2      AF  2000     m014   52.0      m       014\n",
       "3      AG  2000     m014    0.0      m       014\n",
       "4      AL  2000     m014    2.0      m       014"
      ]
     },
     "execution_count": 55,
     "metadata": {},
     "output_type": "execute_result"
    }
   ],
   "source": [
    "# Create the 'age_group' column\n",
    "tb_melt['age_group'] = tb_melt.variable.str[1:]\n",
    "tb_melt.head()"
   ]
  },
  {
   "cell_type": "markdown",
   "metadata": {},
   "source": [
    "#### Splitting a column with .split() and .get()"
   ]
  },
  {
   "cell_type": "code",
   "execution_count": 196,
   "metadata": {},
   "outputs": [
    {
     "data": {
      "text/html": [
       "<div>\n",
       "<style scoped>\n",
       "    .dataframe tbody tr th:only-of-type {\n",
       "        vertical-align: middle;\n",
       "    }\n",
       "\n",
       "    .dataframe tbody tr th {\n",
       "        vertical-align: top;\n",
       "    }\n",
       "\n",
       "    .dataframe thead th {\n",
       "        text-align: right;\n",
       "    }\n",
       "</style>\n",
       "<table border=\"1\" class=\"dataframe\">\n",
       "  <thead>\n",
       "    <tr style=\"text-align: right;\">\n",
       "      <th></th>\n",
       "      <th>Date</th>\n",
       "      <th>Day</th>\n",
       "      <th>Cases_Guinea</th>\n",
       "      <th>Cases_Liberia</th>\n",
       "      <th>Cases_SierraLeone</th>\n",
       "      <th>Cases_Nigeria</th>\n",
       "      <th>Cases_Senegal</th>\n",
       "      <th>Cases_UnitedStates</th>\n",
       "      <th>Cases_Spain</th>\n",
       "      <th>Cases_Mali</th>\n",
       "      <th>Deaths_Guinea</th>\n",
       "      <th>Deaths_Liberia</th>\n",
       "      <th>Deaths_SierraLeone</th>\n",
       "      <th>Deaths_Nigeria</th>\n",
       "      <th>Deaths_Senegal</th>\n",
       "      <th>Deaths_UnitedStates</th>\n",
       "      <th>Deaths_Spain</th>\n",
       "      <th>Deaths_Mali</th>\n",
       "    </tr>\n",
       "  </thead>\n",
       "  <tbody>\n",
       "    <tr>\n",
       "      <th>0</th>\n",
       "      <td>1/5/2015</td>\n",
       "      <td>289</td>\n",
       "      <td>2776.0</td>\n",
       "      <td>NaN</td>\n",
       "      <td>10030.0</td>\n",
       "      <td>NaN</td>\n",
       "      <td>NaN</td>\n",
       "      <td>NaN</td>\n",
       "      <td>NaN</td>\n",
       "      <td>NaN</td>\n",
       "      <td>1786.0</td>\n",
       "      <td>NaN</td>\n",
       "      <td>2977.0</td>\n",
       "      <td>NaN</td>\n",
       "      <td>NaN</td>\n",
       "      <td>NaN</td>\n",
       "      <td>NaN</td>\n",
       "      <td>NaN</td>\n",
       "    </tr>\n",
       "    <tr>\n",
       "      <th>1</th>\n",
       "      <td>1/4/2015</td>\n",
       "      <td>288</td>\n",
       "      <td>2775.0</td>\n",
       "      <td>NaN</td>\n",
       "      <td>9780.0</td>\n",
       "      <td>NaN</td>\n",
       "      <td>NaN</td>\n",
       "      <td>NaN</td>\n",
       "      <td>NaN</td>\n",
       "      <td>NaN</td>\n",
       "      <td>1781.0</td>\n",
       "      <td>NaN</td>\n",
       "      <td>2943.0</td>\n",
       "      <td>NaN</td>\n",
       "      <td>NaN</td>\n",
       "      <td>NaN</td>\n",
       "      <td>NaN</td>\n",
       "      <td>NaN</td>\n",
       "    </tr>\n",
       "    <tr>\n",
       "      <th>2</th>\n",
       "      <td>1/3/2015</td>\n",
       "      <td>287</td>\n",
       "      <td>2769.0</td>\n",
       "      <td>8166.0</td>\n",
       "      <td>9722.0</td>\n",
       "      <td>NaN</td>\n",
       "      <td>NaN</td>\n",
       "      <td>NaN</td>\n",
       "      <td>NaN</td>\n",
       "      <td>NaN</td>\n",
       "      <td>1767.0</td>\n",
       "      <td>3496.0</td>\n",
       "      <td>2915.0</td>\n",
       "      <td>NaN</td>\n",
       "      <td>NaN</td>\n",
       "      <td>NaN</td>\n",
       "      <td>NaN</td>\n",
       "      <td>NaN</td>\n",
       "    </tr>\n",
       "    <tr>\n",
       "      <th>3</th>\n",
       "      <td>1/2/2015</td>\n",
       "      <td>286</td>\n",
       "      <td>NaN</td>\n",
       "      <td>8157.0</td>\n",
       "      <td>NaN</td>\n",
       "      <td>NaN</td>\n",
       "      <td>NaN</td>\n",
       "      <td>NaN</td>\n",
       "      <td>NaN</td>\n",
       "      <td>NaN</td>\n",
       "      <td>NaN</td>\n",
       "      <td>3496.0</td>\n",
       "      <td>NaN</td>\n",
       "      <td>NaN</td>\n",
       "      <td>NaN</td>\n",
       "      <td>NaN</td>\n",
       "      <td>NaN</td>\n",
       "      <td>NaN</td>\n",
       "    </tr>\n",
       "    <tr>\n",
       "      <th>4</th>\n",
       "      <td>12/31/2014</td>\n",
       "      <td>284</td>\n",
       "      <td>2730.0</td>\n",
       "      <td>8115.0</td>\n",
       "      <td>9633.0</td>\n",
       "      <td>NaN</td>\n",
       "      <td>NaN</td>\n",
       "      <td>NaN</td>\n",
       "      <td>NaN</td>\n",
       "      <td>NaN</td>\n",
       "      <td>1739.0</td>\n",
       "      <td>3471.0</td>\n",
       "      <td>2827.0</td>\n",
       "      <td>NaN</td>\n",
       "      <td>NaN</td>\n",
       "      <td>NaN</td>\n",
       "      <td>NaN</td>\n",
       "      <td>NaN</td>\n",
       "    </tr>\n",
       "  </tbody>\n",
       "</table>\n",
       "</div>"
      ],
      "text/plain": [
       "         Date  Day  Cases_Guinea  Cases_Liberia  Cases_SierraLeone  \\\n",
       "0    1/5/2015  289        2776.0            NaN            10030.0   \n",
       "1    1/4/2015  288        2775.0            NaN             9780.0   \n",
       "2    1/3/2015  287        2769.0         8166.0             9722.0   \n",
       "3    1/2/2015  286           NaN         8157.0                NaN   \n",
       "4  12/31/2014  284        2730.0         8115.0             9633.0   \n",
       "\n",
       "   Cases_Nigeria  Cases_Senegal  Cases_UnitedStates  Cases_Spain  Cases_Mali  \\\n",
       "0            NaN            NaN                 NaN          NaN         NaN   \n",
       "1            NaN            NaN                 NaN          NaN         NaN   \n",
       "2            NaN            NaN                 NaN          NaN         NaN   \n",
       "3            NaN            NaN                 NaN          NaN         NaN   \n",
       "4            NaN            NaN                 NaN          NaN         NaN   \n",
       "\n",
       "   Deaths_Guinea  Deaths_Liberia  Deaths_SierraLeone  Deaths_Nigeria  \\\n",
       "0         1786.0             NaN              2977.0             NaN   \n",
       "1         1781.0             NaN              2943.0             NaN   \n",
       "2         1767.0          3496.0              2915.0             NaN   \n",
       "3            NaN          3496.0                 NaN             NaN   \n",
       "4         1739.0          3471.0              2827.0             NaN   \n",
       "\n",
       "   Deaths_Senegal  Deaths_UnitedStates  Deaths_Spain  Deaths_Mali  \n",
       "0             NaN                  NaN           NaN          NaN  \n",
       "1             NaN                  NaN           NaN          NaN  \n",
       "2             NaN                  NaN           NaN          NaN  \n",
       "3             NaN                  NaN           NaN          NaN  \n",
       "4             NaN                  NaN           NaN          NaN  "
      ]
     },
     "execution_count": 196,
     "metadata": {},
     "output_type": "execute_result"
    }
   ],
   "source": [
    "# Load ebola.csv into ebola\n",
    "ebola = pd.read_csv('data/ebola.csv')\n",
    "ebola.head()"
   ]
  },
  {
   "cell_type": "code",
   "execution_count": 197,
   "metadata": {},
   "outputs": [
    {
     "data": {
      "text/html": [
       "<div>\n",
       "<style scoped>\n",
       "    .dataframe tbody tr th:only-of-type {\n",
       "        vertical-align: middle;\n",
       "    }\n",
       "\n",
       "    .dataframe tbody tr th {\n",
       "        vertical-align: top;\n",
       "    }\n",
       "\n",
       "    .dataframe thead th {\n",
       "        text-align: right;\n",
       "    }\n",
       "</style>\n",
       "<table border=\"1\" class=\"dataframe\">\n",
       "  <thead>\n",
       "    <tr style=\"text-align: right;\">\n",
       "      <th></th>\n",
       "      <th>Date</th>\n",
       "      <th>Day</th>\n",
       "      <th>type_country</th>\n",
       "      <th>counts</th>\n",
       "    </tr>\n",
       "  </thead>\n",
       "  <tbody>\n",
       "    <tr>\n",
       "      <th>0</th>\n",
       "      <td>1/5/2015</td>\n",
       "      <td>289</td>\n",
       "      <td>Cases_Guinea</td>\n",
       "      <td>2776.0</td>\n",
       "    </tr>\n",
       "    <tr>\n",
       "      <th>1</th>\n",
       "      <td>1/4/2015</td>\n",
       "      <td>288</td>\n",
       "      <td>Cases_Guinea</td>\n",
       "      <td>2775.0</td>\n",
       "    </tr>\n",
       "    <tr>\n",
       "      <th>2</th>\n",
       "      <td>1/3/2015</td>\n",
       "      <td>287</td>\n",
       "      <td>Cases_Guinea</td>\n",
       "      <td>2769.0</td>\n",
       "    </tr>\n",
       "    <tr>\n",
       "      <th>3</th>\n",
       "      <td>1/2/2015</td>\n",
       "      <td>286</td>\n",
       "      <td>Cases_Guinea</td>\n",
       "      <td>NaN</td>\n",
       "    </tr>\n",
       "    <tr>\n",
       "      <th>4</th>\n",
       "      <td>12/31/2014</td>\n",
       "      <td>284</td>\n",
       "      <td>Cases_Guinea</td>\n",
       "      <td>2730.0</td>\n",
       "    </tr>\n",
       "  </tbody>\n",
       "</table>\n",
       "</div>"
      ],
      "text/plain": [
       "         Date  Day  type_country  counts\n",
       "0    1/5/2015  289  Cases_Guinea  2776.0\n",
       "1    1/4/2015  288  Cases_Guinea  2775.0\n",
       "2    1/3/2015  287  Cases_Guinea  2769.0\n",
       "3    1/2/2015  286  Cases_Guinea     NaN\n",
       "4  12/31/2014  284  Cases_Guinea  2730.0"
      ]
     },
     "execution_count": 197,
     "metadata": {},
     "output_type": "execute_result"
    }
   ],
   "source": [
    "# Melt ebola: ebola_melt\n",
    "ebola_melt = pd.melt(ebola, id_vars=['Date', 'Day'], var_name='type_country', value_name='counts')\n",
    "ebola_melt.head()"
   ]
  },
  {
   "cell_type": "code",
   "execution_count": 198,
   "metadata": {},
   "outputs": [
    {
     "data": {
      "text/html": [
       "<div>\n",
       "<style scoped>\n",
       "    .dataframe tbody tr th:only-of-type {\n",
       "        vertical-align: middle;\n",
       "    }\n",
       "\n",
       "    .dataframe tbody tr th {\n",
       "        vertical-align: top;\n",
       "    }\n",
       "\n",
       "    .dataframe thead th {\n",
       "        text-align: right;\n",
       "    }\n",
       "</style>\n",
       "<table border=\"1\" class=\"dataframe\">\n",
       "  <thead>\n",
       "    <tr style=\"text-align: right;\">\n",
       "      <th></th>\n",
       "      <th>Date</th>\n",
       "      <th>Day</th>\n",
       "      <th>type_country</th>\n",
       "      <th>counts</th>\n",
       "      <th>str_split</th>\n",
       "    </tr>\n",
       "  </thead>\n",
       "  <tbody>\n",
       "    <tr>\n",
       "      <th>0</th>\n",
       "      <td>1/5/2015</td>\n",
       "      <td>289</td>\n",
       "      <td>Cases_Guinea</td>\n",
       "      <td>2776.0</td>\n",
       "      <td>[Cases, Guinea]</td>\n",
       "    </tr>\n",
       "    <tr>\n",
       "      <th>1</th>\n",
       "      <td>1/4/2015</td>\n",
       "      <td>288</td>\n",
       "      <td>Cases_Guinea</td>\n",
       "      <td>2775.0</td>\n",
       "      <td>[Cases, Guinea]</td>\n",
       "    </tr>\n",
       "    <tr>\n",
       "      <th>2</th>\n",
       "      <td>1/3/2015</td>\n",
       "      <td>287</td>\n",
       "      <td>Cases_Guinea</td>\n",
       "      <td>2769.0</td>\n",
       "      <td>[Cases, Guinea]</td>\n",
       "    </tr>\n",
       "    <tr>\n",
       "      <th>3</th>\n",
       "      <td>1/2/2015</td>\n",
       "      <td>286</td>\n",
       "      <td>Cases_Guinea</td>\n",
       "      <td>NaN</td>\n",
       "      <td>[Cases, Guinea]</td>\n",
       "    </tr>\n",
       "    <tr>\n",
       "      <th>4</th>\n",
       "      <td>12/31/2014</td>\n",
       "      <td>284</td>\n",
       "      <td>Cases_Guinea</td>\n",
       "      <td>2730.0</td>\n",
       "      <td>[Cases, Guinea]</td>\n",
       "    </tr>\n",
       "  </tbody>\n",
       "</table>\n",
       "</div>"
      ],
      "text/plain": [
       "         Date  Day  type_country  counts        str_split\n",
       "0    1/5/2015  289  Cases_Guinea  2776.0  [Cases, Guinea]\n",
       "1    1/4/2015  288  Cases_Guinea  2775.0  [Cases, Guinea]\n",
       "2    1/3/2015  287  Cases_Guinea  2769.0  [Cases, Guinea]\n",
       "3    1/2/2015  286  Cases_Guinea     NaN  [Cases, Guinea]\n",
       "4  12/31/2014  284  Cases_Guinea  2730.0  [Cases, Guinea]"
      ]
     },
     "execution_count": 198,
     "metadata": {},
     "output_type": "execute_result"
    }
   ],
   "source": [
    "# Create the 'str_split' column\n",
    "ebola_melt['str_split'] = ebola_melt['type_country'].str.split('_')\n",
    "ebola_melt.head()"
   ]
  },
  {
   "cell_type": "code",
   "execution_count": 199,
   "metadata": {},
   "outputs": [
    {
     "data": {
      "text/html": [
       "<div>\n",
       "<style scoped>\n",
       "    .dataframe tbody tr th:only-of-type {\n",
       "        vertical-align: middle;\n",
       "    }\n",
       "\n",
       "    .dataframe tbody tr th {\n",
       "        vertical-align: top;\n",
       "    }\n",
       "\n",
       "    .dataframe thead th {\n",
       "        text-align: right;\n",
       "    }\n",
       "</style>\n",
       "<table border=\"1\" class=\"dataframe\">\n",
       "  <thead>\n",
       "    <tr style=\"text-align: right;\">\n",
       "      <th></th>\n",
       "      <th>Date</th>\n",
       "      <th>Day</th>\n",
       "      <th>type_country</th>\n",
       "      <th>counts</th>\n",
       "      <th>str_split</th>\n",
       "      <th>type</th>\n",
       "      <th>country</th>\n",
       "    </tr>\n",
       "  </thead>\n",
       "  <tbody>\n",
       "    <tr>\n",
       "      <th>970</th>\n",
       "      <td>3/28/2014</td>\n",
       "      <td>6</td>\n",
       "      <td>Cases_Mali</td>\n",
       "      <td>NaN</td>\n",
       "      <td>[Cases, Mali]</td>\n",
       "      <td>Cases</td>\n",
       "      <td>Mali</td>\n",
       "    </tr>\n",
       "    <tr>\n",
       "      <th>971</th>\n",
       "      <td>3/27/2014</td>\n",
       "      <td>5</td>\n",
       "      <td>Cases_Mali</td>\n",
       "      <td>NaN</td>\n",
       "      <td>[Cases, Mali]</td>\n",
       "      <td>Cases</td>\n",
       "      <td>Mali</td>\n",
       "    </tr>\n",
       "    <tr>\n",
       "      <th>972</th>\n",
       "      <td>3/26/2014</td>\n",
       "      <td>4</td>\n",
       "      <td>Cases_Mali</td>\n",
       "      <td>NaN</td>\n",
       "      <td>[Cases, Mali]</td>\n",
       "      <td>Cases</td>\n",
       "      <td>Mali</td>\n",
       "    </tr>\n",
       "    <tr>\n",
       "      <th>973</th>\n",
       "      <td>3/25/2014</td>\n",
       "      <td>3</td>\n",
       "      <td>Cases_Mali</td>\n",
       "      <td>NaN</td>\n",
       "      <td>[Cases, Mali]</td>\n",
       "      <td>Cases</td>\n",
       "      <td>Mali</td>\n",
       "    </tr>\n",
       "    <tr>\n",
       "      <th>974</th>\n",
       "      <td>3/24/2014</td>\n",
       "      <td>2</td>\n",
       "      <td>Cases_Mali</td>\n",
       "      <td>NaN</td>\n",
       "      <td>[Cases, Mali]</td>\n",
       "      <td>Cases</td>\n",
       "      <td>Mali</td>\n",
       "    </tr>\n",
       "    <tr>\n",
       "      <th>975</th>\n",
       "      <td>3/22/2014</td>\n",
       "      <td>0</td>\n",
       "      <td>Cases_Mali</td>\n",
       "      <td>NaN</td>\n",
       "      <td>[Cases, Mali]</td>\n",
       "      <td>Cases</td>\n",
       "      <td>Mali</td>\n",
       "    </tr>\n",
       "    <tr>\n",
       "      <th>976</th>\n",
       "      <td>1/5/2015</td>\n",
       "      <td>289</td>\n",
       "      <td>Deaths_Guinea</td>\n",
       "      <td>1786.0</td>\n",
       "      <td>[Deaths, Guinea]</td>\n",
       "      <td>Deaths</td>\n",
       "      <td>Guinea</td>\n",
       "    </tr>\n",
       "    <tr>\n",
       "      <th>977</th>\n",
       "      <td>1/4/2015</td>\n",
       "      <td>288</td>\n",
       "      <td>Deaths_Guinea</td>\n",
       "      <td>1781.0</td>\n",
       "      <td>[Deaths, Guinea]</td>\n",
       "      <td>Deaths</td>\n",
       "      <td>Guinea</td>\n",
       "    </tr>\n",
       "    <tr>\n",
       "      <th>978</th>\n",
       "      <td>1/3/2015</td>\n",
       "      <td>287</td>\n",
       "      <td>Deaths_Guinea</td>\n",
       "      <td>1767.0</td>\n",
       "      <td>[Deaths, Guinea]</td>\n",
       "      <td>Deaths</td>\n",
       "      <td>Guinea</td>\n",
       "    </tr>\n",
       "    <tr>\n",
       "      <th>979</th>\n",
       "      <td>1/2/2015</td>\n",
       "      <td>286</td>\n",
       "      <td>Deaths_Guinea</td>\n",
       "      <td>NaN</td>\n",
       "      <td>[Deaths, Guinea]</td>\n",
       "      <td>Deaths</td>\n",
       "      <td>Guinea</td>\n",
       "    </tr>\n",
       "  </tbody>\n",
       "</table>\n",
       "</div>"
      ],
      "text/plain": [
       "          Date  Day   type_country  counts         str_split    type country\n",
       "970  3/28/2014    6     Cases_Mali     NaN     [Cases, Mali]   Cases    Mali\n",
       "971  3/27/2014    5     Cases_Mali     NaN     [Cases, Mali]   Cases    Mali\n",
       "972  3/26/2014    4     Cases_Mali     NaN     [Cases, Mali]   Cases    Mali\n",
       "973  3/25/2014    3     Cases_Mali     NaN     [Cases, Mali]   Cases    Mali\n",
       "974  3/24/2014    2     Cases_Mali     NaN     [Cases, Mali]   Cases    Mali\n",
       "975  3/22/2014    0     Cases_Mali     NaN     [Cases, Mali]   Cases    Mali\n",
       "976   1/5/2015  289  Deaths_Guinea  1786.0  [Deaths, Guinea]  Deaths  Guinea\n",
       "977   1/4/2015  288  Deaths_Guinea  1781.0  [Deaths, Guinea]  Deaths  Guinea\n",
       "978   1/3/2015  287  Deaths_Guinea  1767.0  [Deaths, Guinea]  Deaths  Guinea\n",
       "979   1/2/2015  286  Deaths_Guinea     NaN  [Deaths, Guinea]  Deaths  Guinea"
      ]
     },
     "execution_count": 199,
     "metadata": {},
     "output_type": "execute_result"
    }
   ],
   "source": [
    "# Create the 'type' column\n",
    "ebola_melt['type'] = ebola_melt['str_split'].str.get(0)\n",
    "\n",
    "# Create the 'country' column\n",
    "ebola_melt['country'] = ebola_melt['str_split'].str.get(1)\n",
    "\n",
    "ebola_melt[970:980]"
   ]
  },
  {
   "cell_type": "markdown",
   "metadata": {},
   "source": [
    "### Concatenate data"
   ]
  },
  {
   "cell_type": "markdown",
   "metadata": {},
   "source": [
    "#### Row concatenation - adding rows with the same columns"
   ]
  },
  {
   "cell_type": "code",
   "execution_count": 200,
   "metadata": {},
   "outputs": [
    {
     "name": "stdout",
     "output_type": "stream",
     "text": [
      "(297, 5)\n",
      "(594, 5)\n",
      "   Unnamed: 0         Date/Time      Lat      Lon    Base\n",
      "0           0  4/1/2014 0:11:00  40.7690 -73.9549  B02512\n",
      "1           1  4/1/2014 0:17:00  40.7267 -74.0345  B02512\n",
      "2           2  4/1/2014 0:21:00  40.7316 -73.9873  B02512\n",
      "3           3  4/1/2014 0:28:00  40.7588 -73.9776  B02512\n",
      "4           4  4/1/2014 0:33:00  40.7594 -73.9722  B02512\n"
     ]
    }
   ],
   "source": [
    "# Concatenate uber with itself: row_concat\n",
    "row_concat = pd.concat([uber, uber])\n",
    "\n",
    "# Print the shape of uber\n",
    "print(uber.shape)\n",
    "\n",
    "# Print the shape of row_concat\n",
    "print(row_concat.shape)\n",
    "\n",
    "# Print the head of row_concat\n",
    "print(row_concat.head())"
   ]
  },
  {
   "cell_type": "markdown",
   "metadata": {},
   "source": [
    "#### Column concatenation - adding columns with the same number of rows"
   ]
  },
  {
   "cell_type": "code",
   "execution_count": 201,
   "metadata": {},
   "outputs": [
    {
     "data": {
      "text/html": [
       "<div>\n",
       "<style scoped>\n",
       "    .dataframe tbody tr th:only-of-type {\n",
       "        vertical-align: middle;\n",
       "    }\n",
       "\n",
       "    .dataframe tbody tr th {\n",
       "        vertical-align: top;\n",
       "    }\n",
       "\n",
       "    .dataframe thead th {\n",
       "        text-align: right;\n",
       "    }\n",
       "</style>\n",
       "<table border=\"1\" class=\"dataframe\">\n",
       "  <thead>\n",
       "    <tr style=\"text-align: right;\">\n",
       "      <th></th>\n",
       "      <th>Date</th>\n",
       "      <th>Day</th>\n",
       "      <th>type_country</th>\n",
       "      <th>counts</th>\n",
       "      <th>str_split</th>\n",
       "    </tr>\n",
       "  </thead>\n",
       "  <tbody>\n",
       "    <tr>\n",
       "      <th>0</th>\n",
       "      <td>1/5/2015</td>\n",
       "      <td>289</td>\n",
       "      <td>Cases_Guinea</td>\n",
       "      <td>2776.0</td>\n",
       "      <td>[Cases, Guinea]</td>\n",
       "    </tr>\n",
       "    <tr>\n",
       "      <th>1</th>\n",
       "      <td>1/4/2015</td>\n",
       "      <td>288</td>\n",
       "      <td>Cases_Guinea</td>\n",
       "      <td>2775.0</td>\n",
       "      <td>[Cases, Guinea]</td>\n",
       "    </tr>\n",
       "    <tr>\n",
       "      <th>2</th>\n",
       "      <td>1/3/2015</td>\n",
       "      <td>287</td>\n",
       "      <td>Cases_Guinea</td>\n",
       "      <td>2769.0</td>\n",
       "      <td>[Cases, Guinea]</td>\n",
       "    </tr>\n",
       "    <tr>\n",
       "      <th>3</th>\n",
       "      <td>1/2/2015</td>\n",
       "      <td>286</td>\n",
       "      <td>Cases_Guinea</td>\n",
       "      <td>NaN</td>\n",
       "      <td>[Cases, Guinea]</td>\n",
       "    </tr>\n",
       "    <tr>\n",
       "      <th>4</th>\n",
       "      <td>12/31/2014</td>\n",
       "      <td>284</td>\n",
       "      <td>Cases_Guinea</td>\n",
       "      <td>2730.0</td>\n",
       "      <td>[Cases, Guinea]</td>\n",
       "    </tr>\n",
       "  </tbody>\n",
       "</table>\n",
       "</div>"
      ],
      "text/plain": [
       "         Date  Day  type_country  counts        str_split\n",
       "0    1/5/2015  289  Cases_Guinea  2776.0  [Cases, Guinea]\n",
       "1    1/4/2015  288  Cases_Guinea  2775.0  [Cases, Guinea]\n",
       "2    1/3/2015  287  Cases_Guinea  2769.0  [Cases, Guinea]\n",
       "3    1/2/2015  286  Cases_Guinea     NaN  [Cases, Guinea]\n",
       "4  12/31/2014  284  Cases_Guinea  2730.0  [Cases, Guinea]"
      ]
     },
     "execution_count": 201,
     "metadata": {},
     "output_type": "execute_result"
    }
   ],
   "source": [
    "# Create status_country DF for example\n",
    "status_country_type = ebola_melt['type']\n",
    "status_country_country = ebola_melt['country']\n",
    "status_country = pd.concat([status_country_type, status_country_country], axis=1)\n",
    "\n",
    "\n",
    "# Remove end columns that are in DF 'status_country': ebola_melt\n",
    "ebola_melt = ebola_melt[['Date', 'Day', 'type_country', 'counts', 'str_split']]\n",
    "\n",
    "# View DF to ensure it is correct\n",
    "ebola_melt.head()"
   ]
  },
  {
   "cell_type": "code",
   "execution_count": 204,
   "metadata": {},
   "outputs": [
    {
     "data": {
      "text/html": [
       "<div>\n",
       "<style scoped>\n",
       "    .dataframe tbody tr th:only-of-type {\n",
       "        vertical-align: middle;\n",
       "    }\n",
       "\n",
       "    .dataframe tbody tr th {\n",
       "        vertical-align: top;\n",
       "    }\n",
       "\n",
       "    .dataframe thead th {\n",
       "        text-align: right;\n",
       "    }\n",
       "</style>\n",
       "<table border=\"1\" class=\"dataframe\">\n",
       "  <thead>\n",
       "    <tr style=\"text-align: right;\">\n",
       "      <th></th>\n",
       "      <th>type</th>\n",
       "      <th>country</th>\n",
       "    </tr>\n",
       "  </thead>\n",
       "  <tbody>\n",
       "    <tr>\n",
       "      <th>0</th>\n",
       "      <td>Cases</td>\n",
       "      <td>Guinea</td>\n",
       "    </tr>\n",
       "    <tr>\n",
       "      <th>1</th>\n",
       "      <td>Cases</td>\n",
       "      <td>Guinea</td>\n",
       "    </tr>\n",
       "    <tr>\n",
       "      <th>2</th>\n",
       "      <td>Cases</td>\n",
       "      <td>Guinea</td>\n",
       "    </tr>\n",
       "    <tr>\n",
       "      <th>3</th>\n",
       "      <td>Cases</td>\n",
       "      <td>Guinea</td>\n",
       "    </tr>\n",
       "    <tr>\n",
       "      <th>4</th>\n",
       "      <td>Cases</td>\n",
       "      <td>Guinea</td>\n",
       "    </tr>\n",
       "  </tbody>\n",
       "</table>\n",
       "</div>"
      ],
      "text/plain": [
       "    type country\n",
       "0  Cases  Guinea\n",
       "1  Cases  Guinea\n",
       "2  Cases  Guinea\n",
       "3  Cases  Guinea\n",
       "4  Cases  Guinea"
      ]
     },
     "execution_count": 204,
     "metadata": {},
     "output_type": "execute_result"
    }
   ],
   "source": [
    "# View DF to ensure it is correct\n",
    "status_country.head()"
   ]
  },
  {
   "cell_type": "code",
   "execution_count": 205,
   "metadata": {},
   "outputs": [
    {
     "name": "stdout",
     "output_type": "stream",
     "text": [
      "(1952, 7)\n",
      "         Date  Day  type_country  counts        str_split   type country\n",
      "0    1/5/2015  289  Cases_Guinea  2776.0  [Cases, Guinea]  Cases  Guinea\n",
      "1    1/4/2015  288  Cases_Guinea  2775.0  [Cases, Guinea]  Cases  Guinea\n",
      "2    1/3/2015  287  Cases_Guinea  2769.0  [Cases, Guinea]  Cases  Guinea\n",
      "3    1/2/2015  286  Cases_Guinea     NaN  [Cases, Guinea]  Cases  Guinea\n",
      "4  12/31/2014  284  Cases_Guinea  2730.0  [Cases, Guinea]  Cases  Guinea\n"
     ]
    }
   ],
   "source": [
    "# Concatenate ebola_melt and status_country column-wise: ebola_tidy\n",
    "# axis=1 denotes that the concat will be column-wise - default is axis=0 (row-wise)\n",
    "ebola_tidy = pd.concat([ebola_melt, status_country], axis=1)\n",
    "\n",
    "# Print the shape of ebola_tidy\n",
    "print(ebola_tidy.shape)\n",
    "\n",
    "# Print the head of ebola_tidy\n",
    "print(ebola_tidy.head())"
   ]
  },
  {
   "cell_type": "markdown",
   "metadata": {},
   "source": [
    "### Globbing"
   ]
  },
  {
   "cell_type": "code",
   "execution_count": 208,
   "metadata": {},
   "outputs": [],
   "source": [
    "# Globbing:\n",
    "# Pattern matching for files\n",
    "# -Wilcards: '*' and '?'\n",
    "#    -Ex: *.csv will find any file ending with .csv\n",
    "#    -Ex: file_?.csv will find any file with one alpha-numeric character after file_ eg file_1\n",
    "#        - No special characters eg '/'\n",
    "# -Returns list of filenames"
   ]
  },
  {
   "cell_type": "code",
   "execution_count": 214,
   "metadata": {},
   "outputs": [
    {
     "name": "stdout",
     "output_type": "stream",
     "text": [
      "['data/uber/uber-raw-data-2014_04.csv', 'data/uber/uber-raw-data-2014_05.csv', 'data/uber/uber-raw-data-2014_06.csv']\n",
      "          Date/Time      Lat      Lon    Base\n",
      "0  5/1/2014 0:02:00  40.7521 -73.9914  B02512\n",
      "1  5/1/2014 0:06:00  40.6965 -73.9715  B02512\n",
      "2  5/1/2014 0:15:00  40.7464 -73.9838  B02512\n",
      "3  5/1/2014 0:17:00  40.7463 -74.0011  B02512\n",
      "4  5/1/2014 0:17:00  40.7594 -73.9734  B02512\n"
     ]
    }
   ],
   "source": [
    "# Import packages\n",
    "import glob\n",
    "import pandas as pd\n",
    "\n",
    "# Write the pattern to match all .csv files\n",
    "pattern = 'data/uber/*.csv'\n",
    "\n",
    "# Save all file matches\n",
    "csv_files = glob.glob(pattern)\n",
    "\n",
    "# Print the filename list\n",
    "print(csv_files)\n",
    "\n",
    "# Load the second file into a DF: csv2\n",
    "csv2 = pd.read_csv(csv_files[1])\n",
    "\n",
    "print(csv2.head())"
   ]
  },
  {
   "cell_type": "markdown",
   "metadata": {},
   "source": [
    "#### Iterating and concatenating all glob matches into one DF"
   ]
  },
  {
   "cell_type": "code",
   "execution_count": 229,
   "metadata": {},
   "outputs": [
    {
     "name": "stdout",
     "output_type": "stream",
     "text": [
      "(297, 4)\n",
      "          Date/Time      Lat      Lon    Base\n",
      "0  4/1/2014 0:11:00  40.7690 -73.9549  B02512\n",
      "1  4/1/2014 0:17:00  40.7267 -74.0345  B02512\n",
      "2  4/1/2014 0:21:00  40.7316 -73.9873  B02512\n",
      "3  4/1/2014 0:28:00  40.7588 -73.9776  B02512\n",
      "4  4/1/2014 0:33:00  40.7594 -73.9722  B02512\n"
     ]
    }
   ],
   "source": [
    "# Create an empty list\n",
    "frames = []\n",
    "\n",
    "# Iterate over csv_files - the three files that matched the pattern above\n",
    "for csv in csv_files:\n",
    "    df = pd.read_csv(csv) # Read csv into a DF: df\n",
    "    frames.append(df)     # Append each df to frames list\n",
    "    \n",
    "# Concatenate the list of 3 (99x4) frames into a single DF (297x4): uber\n",
    "uber = pd.concat(frames)\n",
    "\n",
    "print(uber.shape)\n",
    "print(uber.head())"
   ]
  },
  {
   "cell_type": "markdown",
   "metadata": {},
   "source": [
    "### Merging data - combining datasets based on common columns - similar to SQL\n",
    "Three types: 1) one-to-one 2) many-to-one 3) many-to-many"
   ]
  },
  {
   "cell_type": "code",
   "execution_count": 258,
   "metadata": {},
   "outputs": [
    {
     "name": "stdout",
     "output_type": "stream",
     "text": [
      "    name    lat    long\n",
      "0   DR-1 -49.85 -128.57\n",
      "1   DR-3 -47.15 -126.72\n",
      "2  MSK-4 -48.87 -123.40\n",
      "   ident   site       dated\n",
      "0    619   DR-1  1927-02-08\n",
      "1    734   DR-3  1939-01-07\n",
      "2    837  MSK-4  1932-01-14\n"
     ]
    }
   ],
   "source": [
    "# Create the DF's for the ex\n",
    "site = pd.read_csv('data/site.csv')\n",
    "visited = pd.read_csv('data/visited_partial.csv')\n",
    "\n",
    "print(site) \n",
    "print(visited)"
   ]
  },
  {
   "cell_type": "code",
   "execution_count": 259,
   "metadata": {},
   "outputs": [
    {
     "data": {
      "text/html": [
       "<div>\n",
       "<style scoped>\n",
       "    .dataframe tbody tr th:only-of-type {\n",
       "        vertical-align: middle;\n",
       "    }\n",
       "\n",
       "    .dataframe tbody tr th {\n",
       "        vertical-align: top;\n",
       "    }\n",
       "\n",
       "    .dataframe thead th {\n",
       "        text-align: right;\n",
       "    }\n",
       "</style>\n",
       "<table border=\"1\" class=\"dataframe\">\n",
       "  <thead>\n",
       "    <tr style=\"text-align: right;\">\n",
       "      <th></th>\n",
       "      <th>name</th>\n",
       "      <th>lat</th>\n",
       "      <th>long</th>\n",
       "      <th>ident</th>\n",
       "      <th>site</th>\n",
       "      <th>dated</th>\n",
       "    </tr>\n",
       "  </thead>\n",
       "  <tbody>\n",
       "    <tr>\n",
       "      <th>0</th>\n",
       "      <td>DR-1</td>\n",
       "      <td>-49.85</td>\n",
       "      <td>-128.57</td>\n",
       "      <td>619</td>\n",
       "      <td>DR-1</td>\n",
       "      <td>1927-02-08</td>\n",
       "    </tr>\n",
       "    <tr>\n",
       "      <th>1</th>\n",
       "      <td>DR-3</td>\n",
       "      <td>-47.15</td>\n",
       "      <td>-126.72</td>\n",
       "      <td>734</td>\n",
       "      <td>DR-3</td>\n",
       "      <td>1939-01-07</td>\n",
       "    </tr>\n",
       "    <tr>\n",
       "      <th>2</th>\n",
       "      <td>MSK-4</td>\n",
       "      <td>-48.87</td>\n",
       "      <td>-123.40</td>\n",
       "      <td>837</td>\n",
       "      <td>MSK-4</td>\n",
       "      <td>1932-01-14</td>\n",
       "    </tr>\n",
       "  </tbody>\n",
       "</table>\n",
       "</div>"
      ],
      "text/plain": [
       "    name    lat    long  ident   site       dated\n",
       "0   DR-1 -49.85 -128.57    619   DR-1  1927-02-08\n",
       "1   DR-3 -47.15 -126.72    734   DR-3  1939-01-07\n",
       "2  MSK-4 -48.87 -123.40    837  MSK-4  1932-01-14"
      ]
     },
     "execution_count": 259,
     "metadata": {},
     "output_type": "execute_result"
    }
   ],
   "source": [
    "# Merge the DF's: o2o (one-to-one)\n",
    "o2o = pd.merge(left=site, right=visited, left_on='name', right_on='site')\n",
    "o2o"
   ]
  },
  {
   "cell_type": "code",
   "execution_count": 260,
   "metadata": {},
   "outputs": [
    {
     "data": {
      "text/html": [
       "<div>\n",
       "<style scoped>\n",
       "    .dataframe tbody tr th:only-of-type {\n",
       "        vertical-align: middle;\n",
       "    }\n",
       "\n",
       "    .dataframe tbody tr th {\n",
       "        vertical-align: top;\n",
       "    }\n",
       "\n",
       "    .dataframe thead th {\n",
       "        text-align: right;\n",
       "    }\n",
       "</style>\n",
       "<table border=\"1\" class=\"dataframe\">\n",
       "  <thead>\n",
       "    <tr style=\"text-align: right;\">\n",
       "      <th></th>\n",
       "      <th>ident</th>\n",
       "      <th>site</th>\n",
       "      <th>dated</th>\n",
       "    </tr>\n",
       "  </thead>\n",
       "  <tbody>\n",
       "    <tr>\n",
       "      <th>0</th>\n",
       "      <td>619</td>\n",
       "      <td>DR-1</td>\n",
       "      <td>1927-02-08</td>\n",
       "    </tr>\n",
       "    <tr>\n",
       "      <th>1</th>\n",
       "      <td>622</td>\n",
       "      <td>DR-1</td>\n",
       "      <td>1927-02-10</td>\n",
       "    </tr>\n",
       "    <tr>\n",
       "      <th>2</th>\n",
       "      <td>734</td>\n",
       "      <td>DR-3</td>\n",
       "      <td>1939-01-07</td>\n",
       "    </tr>\n",
       "    <tr>\n",
       "      <th>3</th>\n",
       "      <td>735</td>\n",
       "      <td>DR-3</td>\n",
       "      <td>1930-01-12</td>\n",
       "    </tr>\n",
       "    <tr>\n",
       "      <th>4</th>\n",
       "      <td>751</td>\n",
       "      <td>DR-3</td>\n",
       "      <td>1930-02-26</td>\n",
       "    </tr>\n",
       "  </tbody>\n",
       "</table>\n",
       "</div>"
      ],
      "text/plain": [
       "   ident  site       dated\n",
       "0    619  DR-1  1927-02-08\n",
       "1    622  DR-1  1927-02-10\n",
       "2    734  DR-3  1939-01-07\n",
       "3    735  DR-3  1930-01-12\n",
       "4    751  DR-3  1930-02-26"
      ]
     },
     "execution_count": 260,
     "metadata": {},
     "output_type": "execute_result"
    }
   ],
   "source": [
    "# Create the DF's for the ex\n",
    "visited_m2o = pd.read_csv('data/visited_m2o.csv')\n",
    "\n",
    "visited_m2o.head()"
   ]
  },
  {
   "cell_type": "code",
   "execution_count": 261,
   "metadata": {},
   "outputs": [
    {
     "data": {
      "text/html": [
       "<div>\n",
       "<style scoped>\n",
       "    .dataframe tbody tr th:only-of-type {\n",
       "        vertical-align: middle;\n",
       "    }\n",
       "\n",
       "    .dataframe tbody tr th {\n",
       "        vertical-align: top;\n",
       "    }\n",
       "\n",
       "    .dataframe thead th {\n",
       "        text-align: right;\n",
       "    }\n",
       "</style>\n",
       "<table border=\"1\" class=\"dataframe\">\n",
       "  <thead>\n",
       "    <tr style=\"text-align: right;\">\n",
       "      <th></th>\n",
       "      <th>name</th>\n",
       "      <th>lat</th>\n",
       "      <th>long</th>\n",
       "      <th>ident</th>\n",
       "      <th>site</th>\n",
       "      <th>dated</th>\n",
       "    </tr>\n",
       "  </thead>\n",
       "  <tbody>\n",
       "    <tr>\n",
       "      <th>0</th>\n",
       "      <td>DR-1</td>\n",
       "      <td>-49.85</td>\n",
       "      <td>-128.57</td>\n",
       "      <td>619</td>\n",
       "      <td>DR-1</td>\n",
       "      <td>1927-02-08</td>\n",
       "    </tr>\n",
       "    <tr>\n",
       "      <th>1</th>\n",
       "      <td>DR-1</td>\n",
       "      <td>-49.85</td>\n",
       "      <td>-128.57</td>\n",
       "      <td>622</td>\n",
       "      <td>DR-1</td>\n",
       "      <td>1927-02-10</td>\n",
       "    </tr>\n",
       "    <tr>\n",
       "      <th>2</th>\n",
       "      <td>DR-1</td>\n",
       "      <td>-49.85</td>\n",
       "      <td>-128.57</td>\n",
       "      <td>844</td>\n",
       "      <td>DR-1</td>\n",
       "      <td>1932-03-22</td>\n",
       "    </tr>\n",
       "    <tr>\n",
       "      <th>3</th>\n",
       "      <td>DR-3</td>\n",
       "      <td>-47.15</td>\n",
       "      <td>-126.72</td>\n",
       "      <td>734</td>\n",
       "      <td>DR-3</td>\n",
       "      <td>1939-01-07</td>\n",
       "    </tr>\n",
       "    <tr>\n",
       "      <th>4</th>\n",
       "      <td>DR-3</td>\n",
       "      <td>-47.15</td>\n",
       "      <td>-126.72</td>\n",
       "      <td>735</td>\n",
       "      <td>DR-3</td>\n",
       "      <td>1930-01-12</td>\n",
       "    </tr>\n",
       "    <tr>\n",
       "      <th>5</th>\n",
       "      <td>DR-3</td>\n",
       "      <td>-47.15</td>\n",
       "      <td>-126.72</td>\n",
       "      <td>751</td>\n",
       "      <td>DR-3</td>\n",
       "      <td>1930-02-26</td>\n",
       "    </tr>\n",
       "    <tr>\n",
       "      <th>6</th>\n",
       "      <td>DR-3</td>\n",
       "      <td>-47.15</td>\n",
       "      <td>-126.72</td>\n",
       "      <td>752</td>\n",
       "      <td>DR-3</td>\n",
       "      <td>NaN</td>\n",
       "    </tr>\n",
       "    <tr>\n",
       "      <th>7</th>\n",
       "      <td>MSK-4</td>\n",
       "      <td>-48.87</td>\n",
       "      <td>-123.40</td>\n",
       "      <td>837</td>\n",
       "      <td>MSK-4</td>\n",
       "      <td>1932-01-14</td>\n",
       "    </tr>\n",
       "  </tbody>\n",
       "</table>\n",
       "</div>"
      ],
      "text/plain": [
       "    name    lat    long  ident   site       dated\n",
       "0   DR-1 -49.85 -128.57    619   DR-1  1927-02-08\n",
       "1   DR-1 -49.85 -128.57    622   DR-1  1927-02-10\n",
       "2   DR-1 -49.85 -128.57    844   DR-1  1932-03-22\n",
       "3   DR-3 -47.15 -126.72    734   DR-3  1939-01-07\n",
       "4   DR-3 -47.15 -126.72    735   DR-3  1930-01-12\n",
       "5   DR-3 -47.15 -126.72    751   DR-3  1930-02-26\n",
       "6   DR-3 -47.15 -126.72    752   DR-3         NaN\n",
       "7  MSK-4 -48.87 -123.40    837  MSK-4  1932-01-14"
      ]
     },
     "execution_count": 261,
     "metadata": {},
     "output_type": "execute_result"
    }
   ],
   "source": [
    "# Merge the DF's: m2o (many-to-one)\n",
    "m2o = pd.merge(left=site, right=visited_m2o, left_on='name', right_on='site')\n",
    "m2o"
   ]
  },
  {
   "cell_type": "code",
   "execution_count": 262,
   "metadata": {},
   "outputs": [
    {
     "data": {
      "text/html": [
       "<div>\n",
       "<style scoped>\n",
       "    .dataframe tbody tr th:only-of-type {\n",
       "        vertical-align: middle;\n",
       "    }\n",
       "\n",
       "    .dataframe tbody tr th {\n",
       "        vertical-align: top;\n",
       "    }\n",
       "\n",
       "    .dataframe thead th {\n",
       "        text-align: right;\n",
       "    }\n",
       "</style>\n",
       "<table border=\"1\" class=\"dataframe\">\n",
       "  <thead>\n",
       "    <tr style=\"text-align: right;\">\n",
       "      <th></th>\n",
       "      <th>taken</th>\n",
       "      <th>person</th>\n",
       "      <th>quant</th>\n",
       "      <th>reading</th>\n",
       "    </tr>\n",
       "  </thead>\n",
       "  <tbody>\n",
       "    <tr>\n",
       "      <th>0</th>\n",
       "      <td>619</td>\n",
       "      <td>dyer</td>\n",
       "      <td>rad</td>\n",
       "      <td>9.82</td>\n",
       "    </tr>\n",
       "    <tr>\n",
       "      <th>1</th>\n",
       "      <td>619</td>\n",
       "      <td>dyer</td>\n",
       "      <td>sal</td>\n",
       "      <td>0.13</td>\n",
       "    </tr>\n",
       "    <tr>\n",
       "      <th>2</th>\n",
       "      <td>622</td>\n",
       "      <td>dyer</td>\n",
       "      <td>rad</td>\n",
       "      <td>7.80</td>\n",
       "    </tr>\n",
       "    <tr>\n",
       "      <th>3</th>\n",
       "      <td>622</td>\n",
       "      <td>dyer</td>\n",
       "      <td>sal</td>\n",
       "      <td>0.09</td>\n",
       "    </tr>\n",
       "    <tr>\n",
       "      <th>4</th>\n",
       "      <td>734</td>\n",
       "      <td>pb</td>\n",
       "      <td>rad</td>\n",
       "      <td>8.41</td>\n",
       "    </tr>\n",
       "  </tbody>\n",
       "</table>\n",
       "</div>"
      ],
      "text/plain": [
       "   taken person quant  reading\n",
       "0    619   dyer   rad     9.82\n",
       "1    619   dyer   sal     0.13\n",
       "2    622   dyer   rad     7.80\n",
       "3    622   dyer   sal     0.09\n",
       "4    734     pb   rad     8.41"
      ]
     },
     "execution_count": 262,
     "metadata": {},
     "output_type": "execute_result"
    }
   ],
   "source": [
    "# Create the DF's for the ex\n",
    "survey = pd.read_csv('data/survey.csv')\n",
    "\n",
    "survey.head()"
   ]
  },
  {
   "cell_type": "code",
   "execution_count": 263,
   "metadata": {},
   "outputs": [
    {
     "data": {
      "text/html": [
       "<div>\n",
       "<style scoped>\n",
       "    .dataframe tbody tr th:only-of-type {\n",
       "        vertical-align: middle;\n",
       "    }\n",
       "\n",
       "    .dataframe tbody tr th {\n",
       "        vertical-align: top;\n",
       "    }\n",
       "\n",
       "    .dataframe thead th {\n",
       "        text-align: right;\n",
       "    }\n",
       "</style>\n",
       "<table border=\"1\" class=\"dataframe\">\n",
       "  <thead>\n",
       "    <tr style=\"text-align: right;\">\n",
       "      <th></th>\n",
       "      <th>name</th>\n",
       "      <th>lat</th>\n",
       "      <th>long</th>\n",
       "      <th>ident</th>\n",
       "      <th>site</th>\n",
       "      <th>dated</th>\n",
       "      <th>taken</th>\n",
       "      <th>person</th>\n",
       "      <th>quant</th>\n",
       "      <th>reading</th>\n",
       "    </tr>\n",
       "  </thead>\n",
       "  <tbody>\n",
       "    <tr>\n",
       "      <th>0</th>\n",
       "      <td>DR-1</td>\n",
       "      <td>-49.85</td>\n",
       "      <td>-128.57</td>\n",
       "      <td>619</td>\n",
       "      <td>DR-1</td>\n",
       "      <td>1927-02-08</td>\n",
       "      <td>619</td>\n",
       "      <td>dyer</td>\n",
       "      <td>rad</td>\n",
       "      <td>9.82</td>\n",
       "    </tr>\n",
       "    <tr>\n",
       "      <th>1</th>\n",
       "      <td>DR-1</td>\n",
       "      <td>-49.85</td>\n",
       "      <td>-128.57</td>\n",
       "      <td>619</td>\n",
       "      <td>DR-1</td>\n",
       "      <td>1927-02-08</td>\n",
       "      <td>619</td>\n",
       "      <td>dyer</td>\n",
       "      <td>sal</td>\n",
       "      <td>0.13</td>\n",
       "    </tr>\n",
       "    <tr>\n",
       "      <th>2</th>\n",
       "      <td>DR-3</td>\n",
       "      <td>-47.15</td>\n",
       "      <td>-126.72</td>\n",
       "      <td>734</td>\n",
       "      <td>DR-3</td>\n",
       "      <td>1939-01-07</td>\n",
       "      <td>734</td>\n",
       "      <td>pb</td>\n",
       "      <td>rad</td>\n",
       "      <td>8.41</td>\n",
       "    </tr>\n",
       "    <tr>\n",
       "      <th>3</th>\n",
       "      <td>DR-3</td>\n",
       "      <td>-47.15</td>\n",
       "      <td>-126.72</td>\n",
       "      <td>734</td>\n",
       "      <td>DR-3</td>\n",
       "      <td>1939-01-07</td>\n",
       "      <td>734</td>\n",
       "      <td>lake</td>\n",
       "      <td>sal</td>\n",
       "      <td>0.05</td>\n",
       "    </tr>\n",
       "    <tr>\n",
       "      <th>4</th>\n",
       "      <td>DR-3</td>\n",
       "      <td>-47.15</td>\n",
       "      <td>-126.72</td>\n",
       "      <td>734</td>\n",
       "      <td>DR-3</td>\n",
       "      <td>1939-01-07</td>\n",
       "      <td>734</td>\n",
       "      <td>pb</td>\n",
       "      <td>temp</td>\n",
       "      <td>-21.50</td>\n",
       "    </tr>\n",
       "    <tr>\n",
       "      <th>5</th>\n",
       "      <td>MSK-4</td>\n",
       "      <td>-48.87</td>\n",
       "      <td>-123.40</td>\n",
       "      <td>837</td>\n",
       "      <td>MSK-4</td>\n",
       "      <td>1932-01-14</td>\n",
       "      <td>837</td>\n",
       "      <td>lake</td>\n",
       "      <td>rad</td>\n",
       "      <td>1.46</td>\n",
       "    </tr>\n",
       "    <tr>\n",
       "      <th>6</th>\n",
       "      <td>MSK-4</td>\n",
       "      <td>-48.87</td>\n",
       "      <td>-123.40</td>\n",
       "      <td>837</td>\n",
       "      <td>MSK-4</td>\n",
       "      <td>1932-01-14</td>\n",
       "      <td>837</td>\n",
       "      <td>lake</td>\n",
       "      <td>sal</td>\n",
       "      <td>0.21</td>\n",
       "    </tr>\n",
       "    <tr>\n",
       "      <th>7</th>\n",
       "      <td>MSK-4</td>\n",
       "      <td>-48.87</td>\n",
       "      <td>-123.40</td>\n",
       "      <td>837</td>\n",
       "      <td>MSK-4</td>\n",
       "      <td>1932-01-14</td>\n",
       "      <td>837</td>\n",
       "      <td>roe</td>\n",
       "      <td>sal</td>\n",
       "      <td>22.50</td>\n",
       "    </tr>\n",
       "  </tbody>\n",
       "</table>\n",
       "</div>"
      ],
      "text/plain": [
       "    name    lat    long  ident   site       dated  taken person quant  reading\n",
       "0   DR-1 -49.85 -128.57    619   DR-1  1927-02-08    619   dyer   rad     9.82\n",
       "1   DR-1 -49.85 -128.57    619   DR-1  1927-02-08    619   dyer   sal     0.13\n",
       "2   DR-3 -47.15 -126.72    734   DR-3  1939-01-07    734     pb   rad     8.41\n",
       "3   DR-3 -47.15 -126.72    734   DR-3  1939-01-07    734   lake   sal     0.05\n",
       "4   DR-3 -47.15 -126.72    734   DR-3  1939-01-07    734     pb  temp   -21.50\n",
       "5  MSK-4 -48.87 -123.40    837  MSK-4  1932-01-14    837   lake   rad     1.46\n",
       "6  MSK-4 -48.87 -123.40    837  MSK-4  1932-01-14    837   lake   sal     0.21\n",
       "7  MSK-4 -48.87 -123.40    837  MSK-4  1932-01-14    837    roe   sal    22.50"
      ]
     },
     "execution_count": 263,
     "metadata": {},
     "output_type": "execute_result"
    }
   ],
   "source": [
    "# Merge the DF's: m2m (many-to-many)\n",
    "m2m = pd.merge(left=site, right=visited, left_on='name', right_on='site')\n",
    "m2m = pd.merge(left=m2m, right=survey, left_on='ident', right_on='taken')\n",
    "m2m.head(20)"
   ]
  },
  {
   "cell_type": "markdown",
   "metadata": {},
   "source": [
    "### Data types"
   ]
  },
  {
   "cell_type": "code",
   "execution_count": 21,
   "metadata": {},
   "outputs": [
    {
     "name": "stdout",
     "output_type": "stream",
     "text": [
      "['.DS_Store', 'a_movie.json', 'airquality.csv', 'auto.csv', 'battledeath.xlsx', 'boston.csv', 'Chinook.sqlite', 'digits.csv', 'digits_header.txt', 'disarea.dta', 'dob_job_application_filings_subset.csv', 'ebola.csv', 'gapminder.csv', 'gm_2008_region.csv', 'house-votes-84.csv', 'ind_pop_data.csv', 'ja_data2.mat', 'L-L1_LOSC_4_V1-1126259446-32.hdf5', 'latitude.xls', 'mnist_kaggle_some_rows.csv', 'moby_dick.txt', 'nyc_uber_2014.csv', 'sales.sas7bdat', 'seaslug.txt', 'site.csv', 'survey.csv', 'tb.csv', 'tips.csv', 'tips_nan.csv', 'tips_new.csv', 'titanic_corrupt.csv', 'titanic_sub.csv', 'tweets.csv', 'tweets.txt', 'tweets3.txt', 'uber', 'visited_m2o.csv', 'visited_partial.csv', 'white-wine.csv', 'winequality-red.csv', 'world_ind_pop_data.csv']\n"
     ]
    }
   ],
   "source": [
    "import os\n",
    "print(os.listdir('data'))"
   ]
  },
  {
   "cell_type": "code",
   "execution_count": 10,
   "metadata": {},
   "outputs": [
    {
     "name": "stdout",
     "output_type": "stream",
     "text": [
      "<class 'pandas.core.frame.DataFrame'>\n",
      "RangeIndex: 244 entries, 0 to 243\n",
      "Data columns (total 7 columns):\n",
      "total_bill    244 non-null float64\n",
      "tip           244 non-null float64\n",
      "sex           244 non-null object\n",
      "smoker        244 non-null object\n",
      "day           244 non-null object\n",
      "time          244 non-null object\n",
      "size          244 non-null int64\n",
      "dtypes: float64(2), int64(1), object(4)\n",
      "memory usage: 13.4+ KB\n",
      "None\n"
     ]
    },
    {
     "data": {
      "text/html": [
       "<div>\n",
       "<style scoped>\n",
       "    .dataframe tbody tr th:only-of-type {\n",
       "        vertical-align: middle;\n",
       "    }\n",
       "\n",
       "    .dataframe tbody tr th {\n",
       "        vertical-align: top;\n",
       "    }\n",
       "\n",
       "    .dataframe thead th {\n",
       "        text-align: right;\n",
       "    }\n",
       "</style>\n",
       "<table border=\"1\" class=\"dataframe\">\n",
       "  <thead>\n",
       "    <tr style=\"text-align: right;\">\n",
       "      <th></th>\n",
       "      <th>total_bill</th>\n",
       "      <th>tip</th>\n",
       "      <th>sex</th>\n",
       "      <th>smoker</th>\n",
       "      <th>day</th>\n",
       "      <th>time</th>\n",
       "      <th>size</th>\n",
       "    </tr>\n",
       "  </thead>\n",
       "  <tbody>\n",
       "    <tr>\n",
       "      <th>0</th>\n",
       "      <td>16.99</td>\n",
       "      <td>1.01</td>\n",
       "      <td>Female</td>\n",
       "      <td>No</td>\n",
       "      <td>Sun</td>\n",
       "      <td>Dinner</td>\n",
       "      <td>2</td>\n",
       "    </tr>\n",
       "    <tr>\n",
       "      <th>1</th>\n",
       "      <td>10.34</td>\n",
       "      <td>1.66</td>\n",
       "      <td>Male</td>\n",
       "      <td>No</td>\n",
       "      <td>Sun</td>\n",
       "      <td>Dinner</td>\n",
       "      <td>3</td>\n",
       "    </tr>\n",
       "    <tr>\n",
       "      <th>2</th>\n",
       "      <td>21.01</td>\n",
       "      <td>3.50</td>\n",
       "      <td>Male</td>\n",
       "      <td>No</td>\n",
       "      <td>Sun</td>\n",
       "      <td>Dinner</td>\n",
       "      <td>3</td>\n",
       "    </tr>\n",
       "    <tr>\n",
       "      <th>3</th>\n",
       "      <td>23.68</td>\n",
       "      <td>3.31</td>\n",
       "      <td>Male</td>\n",
       "      <td>No</td>\n",
       "      <td>Sun</td>\n",
       "      <td>Dinner</td>\n",
       "      <td>2</td>\n",
       "    </tr>\n",
       "    <tr>\n",
       "      <th>4</th>\n",
       "      <td>24.59</td>\n",
       "      <td>3.61</td>\n",
       "      <td>Female</td>\n",
       "      <td>No</td>\n",
       "      <td>Sun</td>\n",
       "      <td>Dinner</td>\n",
       "      <td>4</td>\n",
       "    </tr>\n",
       "  </tbody>\n",
       "</table>\n",
       "</div>"
      ],
      "text/plain": [
       "   total_bill   tip     sex smoker  day    time  size\n",
       "0       16.99  1.01  Female     No  Sun  Dinner     2\n",
       "1       10.34  1.66    Male     No  Sun  Dinner     3\n",
       "2       21.01  3.50    Male     No  Sun  Dinner     3\n",
       "3       23.68  3.31    Male     No  Sun  Dinner     2\n",
       "4       24.59  3.61  Female     No  Sun  Dinner     4"
      ]
     },
     "execution_count": 10,
     "metadata": {},
     "output_type": "execute_result"
    }
   ],
   "source": [
    "# Import packages\n",
    "import pandas as pd\n",
    "\n",
    "# Load tips.csv into a DF: tips\n",
    "tips = pd.read_csv('data/tips.csv')\n",
    "print(tips.info())\n",
    "tips.head()"
   ]
  },
  {
   "cell_type": "markdown",
   "metadata": {},
   "source": [
    "#### Converting data types"
   ]
  },
  {
   "cell_type": "code",
   "execution_count": 11,
   "metadata": {},
   "outputs": [
    {
     "name": "stdout",
     "output_type": "stream",
     "text": [
      "<class 'pandas.core.frame.DataFrame'>\n",
      "RangeIndex: 244 entries, 0 to 243\n",
      "Data columns (total 7 columns):\n",
      "total_bill    244 non-null float64\n",
      "tip           244 non-null float64\n",
      "sex           244 non-null category\n",
      "smoker        244 non-null category\n",
      "day           244 non-null object\n",
      "time          244 non-null object\n",
      "size          244 non-null int64\n",
      "dtypes: category(2), float64(2), int64(1), object(2)\n",
      "memory usage: 10.3+ KB\n"
     ]
    }
   ],
   "source": [
    "# Convert the sex & smoker columns to type 'category'\n",
    "tips.sex = tips.sex.astype('category')\n",
    "tips.smoker = tips.smoker.astype('category')\n",
    "\n",
    "tips.info()\n",
    "\n",
    "# Note the category change and reduction in memory usage 13.4 KB --> 10.3 KB"
   ]
  },
  {
   "cell_type": "markdown",
   "metadata": {},
   "source": [
    "#### Working with numeric data"
   ]
  },
  {
   "cell_type": "code",
   "execution_count": 12,
   "metadata": {},
   "outputs": [
    {
     "name": "stdout",
     "output_type": "stream",
     "text": [
      "<class 'pandas.core.frame.DataFrame'>\n",
      "RangeIndex: 244 entries, 0 to 243\n",
      "Data columns (total 7 columns):\n",
      "total_bill    244 non-null object\n",
      "tip           244 non-null object\n",
      "sex           234 non-null object\n",
      "smoker        229 non-null object\n",
      "day           243 non-null object\n",
      "time          227 non-null object\n",
      "size          231 non-null float64\n",
      "dtypes: float64(1), object(6)\n",
      "memory usage: 13.4+ KB\n",
      "None\n"
     ]
    }
   ],
   "source": [
    "# Load tips.csv into a DF: tips_nan\n",
    "tips_nan = pd.read_csv('data/tips_nan.csv')\n",
    "print(tips_nan.info())"
   ]
  },
  {
   "cell_type": "code",
   "execution_count": 13,
   "metadata": {},
   "outputs": [
    {
     "name": "stdout",
     "output_type": "stream",
     "text": [
      "<class 'pandas.core.frame.DataFrame'>\n",
      "RangeIndex: 244 entries, 0 to 243\n",
      "Data columns (total 7 columns):\n",
      "total_bill    244 non-null float64\n",
      "tip           244 non-null float64\n",
      "sex           244 non-null category\n",
      "smoker        244 non-null category\n",
      "day           244 non-null object\n",
      "time          244 non-null object\n",
      "size          244 non-null int64\n",
      "dtypes: category(2), float64(2), int64(1), object(2)\n",
      "memory usage: 10.3+ KB\n"
     ]
    }
   ],
   "source": [
    "# Convert 'total_bill' and 'tip' to numeric dtypes - w/out 'coerce' an error is returned because of missing data\n",
    "tips_nan['total_bill'] = pd.to_numeric(tips_nan['total_bill'], errors='coerce')\n",
    "tips_nan['tip'] = pd.to_numeric(tips_nan['tip'], errors='coerce')\n",
    "\n",
    "tips.info()"
   ]
  },
  {
   "cell_type": "markdown",
   "metadata": {},
   "source": [
    "### Using regular expressions (re) to clean strings"
   ]
  },
  {
   "cell_type": "raw",
   "metadata": {},
   "source": [
    "Example matches:\n",
    "    \n",
    "17       \\d*           Means match one or more digits                                        123456789\n",
    "$17      \\$\\d*         Means match '$' followed by digit(s)                                 $123456789\n",
    "$17.00   \\$\\d*\\.\\d*    Means match '$' followed by digit(s), and '.' followed by digit(s)   $123456789.1234...\n",
    "$17.89   \\$\\d*\\.\\d{2}  Means match '$' followed by digit(s), and '.' followed by two digits $123456789.12     \n",
    "$17.895 ^\\$\\d*\\.\\d{2}$ Means start match at '$' followed by digit(s), and '.' followed by two digits\n",
    "                       This last example will return $17.89 when given something like \"I have 17.895 USD\"\n",
    "                       \n",
    "The numbers from '1 dog 10 cat' can be extracted with: \n",
    "re.findall('\\d+', '1 dog 10 cat') \n",
    "This returns:\n",
    "['1', '10']\n",
    "Note: the '+' prevents 10 from being returned as '1' and '0'\n",
    "    \n",
    "Note special characters:\n",
    "    '.' Means match one character\n",
    "    '$' Means match from the end of a string\n",
    "    '\\' Is used as an escape character in the above examples, so they can be matched"
   ]
  },
  {
   "cell_type": "code",
   "execution_count": 14,
   "metadata": {},
   "outputs": [
    {
     "name": "stdout",
     "output_type": "stream",
     "text": [
      "It is true that the pattern 123-456-789 is a good value for a phone number\n",
      "It is false that the pattern 1123-456-789 is a good value for a phone number\n"
     ]
    }
   ],
   "source": [
    "# Import packages\n",
    "import re\n",
    "\n",
    "# Compile the pattern to match a phone number: prog\n",
    "prog = re.compile('\\d{3}-\\d{3}-\\d{3}')\n",
    "\n",
    "# See if the pattern matches a good value\n",
    "ph_num = '123-456-789'\n",
    "result = prog.match(ph_num)\n",
    "bool_result = str(bool(result))\n",
    "print('It is', bool_result.lower(), 'that the pattern', ph_num, 'is a good value for a phone number')\n",
    "\n",
    "# See if the pattern matches a bad value \n",
    "ph_num = '1123-456-789'\n",
    "result = prog.match(ph_num)\n",
    "bool_result = str(bool(result))\n",
    "print('It is', bool_result.lower(), 'that the pattern', ph_num, 'is a good value for a phone number')\n"
   ]
  },
  {
   "cell_type": "code",
   "execution_count": 15,
   "metadata": {},
   "outputs": [
    {
     "name": "stdout",
     "output_type": "stream",
     "text": [
      "['10', '1']\n"
     ]
    }
   ],
   "source": [
    "# Find numeric values: matches\n",
    "matches = re.findall('\\d+', 'the recipe calls for 10 strawberries and 1 banana')\n",
    "\n",
    "# Print the matches\n",
    "print(matches)"
   ]
  },
  {
   "cell_type": "code",
   "execution_count": 16,
   "metadata": {},
   "outputs": [
    {
     "name": "stdout",
     "output_type": "stream",
     "text": [
      "True\n",
      "True\n",
      "True\n"
     ]
    }
   ],
   "source": [
    "# Write the first pattern\n",
    "pattern1 = bool(re.match(pattern='\\d{3}-\\d{3}-\\d{3}', string='123-456-7890'))\n",
    "print(pattern1)\n",
    "\n",
    "# Write the second pattern\n",
    "pattern2 = bool(re.match(pattern='\\$\\d*\\.', string='$123.45'))\n",
    "print(pattern2)\n",
    "\n",
    "# Write the third pattern - A capital letter [A-Z] followed by an arbitrary number of chars \\w*\n",
    "pattern3 = bool(re.match(pattern='A\\w*', string='Australia'))\n",
    "print(pattern3)\n"
   ]
  },
  {
   "cell_type": "markdown",
   "metadata": {},
   "source": [
    "### Using functions to clean data"
   ]
  },
  {
   "cell_type": "markdown",
   "metadata": {},
   "source": [
    "#### Using .apply() to apply the function to the whole column"
   ]
  },
  {
   "cell_type": "code",
   "execution_count": 17,
   "metadata": {},
   "outputs": [
    {
     "name": "stdout",
     "output_type": "stream",
     "text": [
      "   total_bill   tip     sex smoker  day    time  size recode\n",
      "0       16.99  1.01  Female     No  Sun  Dinner     2      0\n",
      "1       10.34  1.66    Male     No  Sun  Dinner     3      1\n",
      "2       21.01  3.50    Male     No  Sun  Dinner     3      1\n",
      "3       23.68  3.31    Male     No  Sun  Dinner     2      1\n",
      "4       24.59  3.61  Female     No  Sun  Dinner     4      0\n"
     ]
    }
   ],
   "source": [
    "# Define recode_gender()\n",
    "def recode_gender(gender):\n",
    "    \n",
    "    # Return 0 if gender is 'Female', 1 if it's 'Male', and np.nan otherwise\n",
    "    if gender == 'Female':\n",
    "        return 0\n",
    "    elif gender == 'Male':\n",
    "        return 1\n",
    "    else:\n",
    "        return np.nan\n",
    "\n",
    "# Apply the function to the sex column of tips, and write it to the recode column of tips\n",
    "tips['recode'] = tips['sex'].apply(recode_gender)\n",
    "\n",
    "# Print the first five rows of tips\n",
    "print(tips.head())"
   ]
  },
  {
   "cell_type": "markdown",
   "metadata": {},
   "source": [
    "#### Using lambda functions with .apply() to apply the function to the whole column"
   ]
  },
  {
   "cell_type": "code",
   "execution_count": 18,
   "metadata": {},
   "outputs": [
    {
     "data": {
      "text/html": [
       "<div>\n",
       "<style scoped>\n",
       "    .dataframe tbody tr th:only-of-type {\n",
       "        vertical-align: middle;\n",
       "    }\n",
       "\n",
       "    .dataframe tbody tr th {\n",
       "        vertical-align: top;\n",
       "    }\n",
       "\n",
       "    .dataframe thead th {\n",
       "        text-align: right;\n",
       "    }\n",
       "</style>\n",
       "<table border=\"1\" class=\"dataframe\">\n",
       "  <thead>\n",
       "    <tr style=\"text-align: right;\">\n",
       "      <th></th>\n",
       "      <th>total_bill</th>\n",
       "      <th>tip</th>\n",
       "      <th>sex</th>\n",
       "      <th>smoker</th>\n",
       "      <th>day</th>\n",
       "      <th>time</th>\n",
       "      <th>size</th>\n",
       "      <th>total_dollar</th>\n",
       "      <th>total_dollar_replace</th>\n",
       "      <th>total_dollar_re</th>\n",
       "    </tr>\n",
       "  </thead>\n",
       "  <tbody>\n",
       "    <tr>\n",
       "      <th>0</th>\n",
       "      <td>16.99</td>\n",
       "      <td>1.01</td>\n",
       "      <td>Female</td>\n",
       "      <td>No</td>\n",
       "      <td>Sun</td>\n",
       "      <td>Dinner</td>\n",
       "      <td>2</td>\n",
       "      <td>$16.99</td>\n",
       "      <td>16.99</td>\n",
       "      <td>16.99</td>\n",
       "    </tr>\n",
       "    <tr>\n",
       "      <th>1</th>\n",
       "      <td>10.34</td>\n",
       "      <td>1.66</td>\n",
       "      <td>Male</td>\n",
       "      <td>No</td>\n",
       "      <td>Sun</td>\n",
       "      <td>Dinner</td>\n",
       "      <td>3</td>\n",
       "      <td>$10.34</td>\n",
       "      <td>10.34</td>\n",
       "      <td>10.34</td>\n",
       "    </tr>\n",
       "    <tr>\n",
       "      <th>2</th>\n",
       "      <td>21.01</td>\n",
       "      <td>3.50</td>\n",
       "      <td>Male</td>\n",
       "      <td>No</td>\n",
       "      <td>Sun</td>\n",
       "      <td>Dinner</td>\n",
       "      <td>3</td>\n",
       "      <td>$21.01</td>\n",
       "      <td>21.01</td>\n",
       "      <td>21.01</td>\n",
       "    </tr>\n",
       "    <tr>\n",
       "      <th>3</th>\n",
       "      <td>23.68</td>\n",
       "      <td>3.31</td>\n",
       "      <td>Male</td>\n",
       "      <td>No</td>\n",
       "      <td>Sun</td>\n",
       "      <td>Dinner</td>\n",
       "      <td>2</td>\n",
       "      <td>$23.68</td>\n",
       "      <td>23.68</td>\n",
       "      <td>23.68</td>\n",
       "    </tr>\n",
       "    <tr>\n",
       "      <th>4</th>\n",
       "      <td>24.59</td>\n",
       "      <td>3.61</td>\n",
       "      <td>Female</td>\n",
       "      <td>No</td>\n",
       "      <td>Sun</td>\n",
       "      <td>Dinner</td>\n",
       "      <td>4</td>\n",
       "      <td>$24.59</td>\n",
       "      <td>24.59</td>\n",
       "      <td>24.59</td>\n",
       "    </tr>\n",
       "  </tbody>\n",
       "</table>\n",
       "</div>"
      ],
      "text/plain": [
       "   total_bill   tip     sex smoker  day    time  size total_dollar  \\\n",
       "0       16.99  1.01  Female     No  Sun  Dinner     2       $16.99   \n",
       "1       10.34  1.66    Male     No  Sun  Dinner     3       $10.34   \n",
       "2       21.01  3.50    Male     No  Sun  Dinner     3       $21.01   \n",
       "3       23.68  3.31    Male     No  Sun  Dinner     2       $23.68   \n",
       "4       24.59  3.61  Female     No  Sun  Dinner     4       $24.59   \n",
       "\n",
       "  total_dollar_replace total_dollar_re  \n",
       "0                16.99           16.99  \n",
       "1                10.34           10.34  \n",
       "2                21.01           21.01  \n",
       "3                23.68           23.68  \n",
       "4                24.59           24.59  "
      ]
     },
     "execution_count": 18,
     "metadata": {},
     "output_type": "execute_result"
    }
   ],
   "source": [
    "# Import packages\n",
    "import pandas as pd\n",
    "import re\n",
    "\n",
    "# Create DF: tips_new\n",
    "tips_new = pd.read_csv('data/tips_new.csv')\n",
    "\n",
    "# Write the lambda function using replace - replaces '$' with ''\n",
    "tips_new['total_dollar_replace'] = tips_new.total_dollar.apply(lambda x: x.replace('$', ''))\n",
    "\n",
    "# Write the lambda function using regular expressions - pulls all values of the form ##.##\n",
    "tips_new['total_dollar_re'] = tips_new.total_dollar.apply(lambda x: re.findall('\\d+\\.\\d+', x)[0])\n",
    "tips_new.head()\n",
    "\n",
    "# Both above functions perform the same operation, but in different ways\n",
    "# findall might be better for more general operations"
   ]
  },
  {
   "cell_type": "markdown",
   "metadata": {},
   "source": [
    "#### Duplicates and missing data"
   ]
  },
  {
   "cell_type": "code",
   "execution_count": 22,
   "metadata": {},
   "outputs": [
    {
     "name": "stdout",
     "output_type": "stream",
     "text": [
      "['.DS_Store', 'a_movie.json', 'airquality.csv', 'auto.csv', 'battledeath.xlsx', 'boston.csv', 'Chinook.sqlite', 'digits.csv', 'digits_header.txt', 'disarea.dta', 'dob_job_application_filings_subset.csv', 'ebola.csv', 'gapminder.csv', 'gm_2008_region.csv', 'house-votes-84.csv', 'ind_pop_data.csv', 'ja_data2.mat', 'L-L1_LOSC_4_V1-1126259446-32.hdf5', 'latitude.xls', 'mnist_kaggle_some_rows.csv', 'moby_dick.txt', 'nyc_uber_2014.csv', 'sales.sas7bdat', 'seaslug.txt', 'site.csv', 'survey.csv', 'tb.csv', 'tips.csv', 'tips_nan.csv', 'tips_new.csv', 'titanic_corrupt.csv', 'titanic_sub.csv', 'tweets.csv', 'tweets.txt', 'tweets3.txt', 'uber', 'visited_m2o.csv', 'visited_partial.csv', 'white-wine.csv', 'winequality-red.csv', 'world_ind_pop_data.csv']\n"
     ]
    }
   ],
   "source": [
    "import os\n",
    "print(os.listdir('data'))"
   ]
  },
  {
   "cell_type": "code",
   "execution_count": 29,
   "metadata": {},
   "outputs": [
    {
     "name": "stdout",
     "output_type": "stream",
     "text": [
      "<class 'pandas.core.frame.DataFrame'>\n",
      "RangeIndex: 24008 entries, 0 to 24007\n",
      "Data columns (total 4 columns):\n",
      "year      24008 non-null int64\n",
      "artist    24008 non-null object\n",
      "track     24008 non-null object\n",
      "time      24008 non-null object\n",
      "dtypes: int64(1), object(3)\n",
      "memory usage: 750.3+ KB\n",
      "None\n",
      "<class 'pandas.core.frame.DataFrame'>\n",
      "Int64Index: 317 entries, 0 to 316\n",
      "Data columns (total 4 columns):\n",
      "year      317 non-null int64\n",
      "artist    317 non-null object\n",
      "track     317 non-null object\n",
      "time      317 non-null object\n",
      "dtypes: int64(1), object(3)\n",
      "memory usage: 12.4+ KB\n",
      "None\n"
     ]
    }
   ],
   "source": [
    "# Dealing with missing values by dropping the duplicates\n",
    "# Create DF: billboard\n",
    "billboard_long = pd.read_csv('data/billboard_long.csv')\n",
    "\n",
    "# Create new DF: tracks\n",
    "tracks = billboard_long[['year', 'artist', 'track', 'time']]\n",
    "\n",
    "# Print tracks' info\n",
    "print(tracks.info())\n",
    "\n",
    "# Drop the duplicates: tracks_no_duplicates\n",
    "tracks_no_duplicates = tracks.drop_duplicates()\n",
    "\n",
    "# Print tracks_no_duplicates' info\n",
    "print(tracks_no_duplicates.info())\n",
    "\n",
    "# Note: (24008 - 317)/24008 = 98.7% of the data was removed from the drop_duplicates() method"
   ]
  },
  {
   "cell_type": "code",
   "execution_count": 62,
   "metadata": {},
   "outputs": [
    {
     "name": "stdout",
     "output_type": "stream",
     "text": [
      "   Ozone  Solar.R  Wind  Temp  Month  Day\n",
      "0   41.0    190.0   7.4    67      5    1\n",
      "1   36.0    118.0   8.0    72      5    2\n",
      "2   12.0    149.0  12.6    74      5    3\n",
      "3   18.0    313.0  11.5    62      5    4\n",
      "4    NaN      NaN  14.3    56      5    5\n",
      "5   28.0      NaN  14.9    66      5    6\n",
      "6   23.0    299.0   8.6    65      5    7\n",
      "7   19.0     99.0  13.8    59      5    8\n",
      "8    8.0     19.0  20.1    61      5    9\n",
      "9    NaN    194.0   8.6    69      5   10\n",
      "      Ozone  Solar.R  Wind  Temp  Month  Day\n",
      "0  41.00000    190.0   7.4    67      5    1\n",
      "1  36.00000    118.0   8.0    72      5    2\n",
      "2  12.00000    149.0  12.6    74      5    3\n",
      "3  18.00000    313.0  11.5    62      5    4\n",
      "4  42.12931      NaN  14.3    56      5    5\n",
      "5  28.00000      NaN  14.9    66      5    6\n",
      "6  23.00000    299.0   8.6    65      5    7\n",
      "7  19.00000     99.0  13.8    59      5    8\n",
      "8   8.00000     19.0  20.1    61      5    9\n",
      "9  42.12931    194.0   8.6    69      5   10\n"
     ]
    }
   ],
   "source": [
    "# Dealing with missing values by filling the duplicates in with the column mean\n",
    "# Create DF: airquality\n",
    "airquality = pd.read_csv('data/airquality.csv')\n",
    "\n",
    "print(airquality.head(10))\n",
    "\n",
    "# Calculate the mean of the Ozone column\n",
    "oz_mean = airquality['Ozone'].mean()\n",
    "\n",
    "# Replace all the missing values in the Ozone column with the mean\n",
    "airquality['Ozone'] = airquality['Ozone'].fillna(oz_mean)\n",
    "\n",
    "print(airquality.head(10))"
   ]
  },
  {
   "cell_type": "markdown",
   "metadata": {},
   "source": [
    "#### Assert statements - checks for missing values - one .all() for a column and chained for DF: .all().all()\n",
    "Nothing is returned if the assert statement is True, meaning no data is missing"
   ]
  },
  {
   "cell_type": "code",
   "execution_count": 63,
   "metadata": {},
   "outputs": [
    {
     "ename": "AssertionError",
     "evalue": "",
     "output_type": "error",
     "traceback": [
      "\u001b[0;31m---------------------------------------------------------------------------\u001b[0m",
      "\u001b[0;31mAssertionError\u001b[0m                            Traceback (most recent call last)",
      "\u001b[0;32m<ipython-input-63-e2c5477188e9>\u001b[0m in \u001b[0;36m<module>\u001b[0;34m()\u001b[0m\n\u001b[1;32m      1\u001b[0m \u001b[0;31m# Assert that there are no missing values\u001b[0m\u001b[0;34m\u001b[0m\u001b[0;34m\u001b[0m\u001b[0m\n\u001b[0;32m----> 2\u001b[0;31m \u001b[0;32massert\u001b[0m \u001b[0mairquality\u001b[0m\u001b[0;34m.\u001b[0m\u001b[0mnotnull\u001b[0m\u001b[0;34m(\u001b[0m\u001b[0;34m)\u001b[0m\u001b[0;34m.\u001b[0m\u001b[0mall\u001b[0m\u001b[0;34m(\u001b[0m\u001b[0;34m)\u001b[0m\u001b[0;34m.\u001b[0m\u001b[0mall\u001b[0m\u001b[0;34m(\u001b[0m\u001b[0;34m)\u001b[0m\u001b[0;34m\u001b[0m\u001b[0m\n\u001b[0m\u001b[1;32m      3\u001b[0m \u001b[0;34m\u001b[0m\u001b[0m\n\u001b[1;32m      4\u001b[0m \u001b[0;31m# Assert that all values are >= 0\u001b[0m\u001b[0;34m\u001b[0m\u001b[0;34m\u001b[0m\u001b[0m\n\u001b[1;32m      5\u001b[0m \u001b[0;32massert\u001b[0m \u001b[0;34m(\u001b[0m\u001b[0mairquality\u001b[0m \u001b[0;34m>=\u001b[0m \u001b[0;36m0\u001b[0m\u001b[0;34m)\u001b[0m\u001b[0;34m.\u001b[0m\u001b[0mall\u001b[0m\u001b[0;34m(\u001b[0m\u001b[0;34m)\u001b[0m\u001b[0;34m.\u001b[0m\u001b[0mall\u001b[0m\u001b[0;34m(\u001b[0m\u001b[0;34m)\u001b[0m\u001b[0;34m\u001b[0m\u001b[0m\n",
      "\u001b[0;31mAssertionError\u001b[0m: "
     ]
    }
   ],
   "source": [
    "# Assert that there are no missing values\n",
    "assert airquality.notnull().all().all()\n",
    "\n",
    "# Assert that all values are >= 0\n",
    "assert (airquality >= 0).all().all()\n",
    "\n",
    "# If an error is returned, then there are missing values"
   ]
  },
  {
   "cell_type": "code",
   "execution_count": 64,
   "metadata": {},
   "outputs": [],
   "source": [
    "# Fill the missing values in the Solar.R column, so the assert test will pass\n",
    "# Calculate the mean of the Solar.R column\n",
    "solar_mean = airquality['Solar.R'].mean()\n",
    "\n",
    "# Replace all the missing values in the Solar.R column with the mean\n",
    "airquality['Solar.R'] = airquality['Solar.R'].fillna(solar_mean)\n",
    "\n",
    "# Assert that there are no missing values\n",
    "assert airquality.notnull().all().all()\n",
    "\n",
    "# Assert that all values are >= 0\n",
    "assert (airquality >= 0).all().all()\n",
    "\n",
    "# If no result is returned, then there are no missing values"
   ]
  },
  {
   "cell_type": "markdown",
   "metadata": {},
   "source": [
    "### Use Case - putting it all together"
   ]
  },
  {
   "cell_type": "raw",
   "metadata": {},
   "source": [
    "Useful methods:\n",
    "\n",
    "import pandas as pd\n",
    "df = pd.read_csv('my_data.csv')\n",
    "df.head()\n",
    "df.info()\n",
    "df.columns\n",
    "df.describe()\n",
    "df.column.value_counts()\n",
    "df.column.plot('hist')\n",
    "\n",
    "Data quality:\n",
    "\n",
    "def cleaning_function(row_data):\n",
    "    # data cleaning steps\n",
    "    return ...\n",
    "\n",
    "df.apply(cleaning_function, axis=1)\n",
    "\n",
    "assert (df.column_data > 0).all()\n",
    "\n",
    "Combining data:\n",
    "\n",
    "pd.merge(df1, df2, ...)\n",
    "\n",
    "pd.concat([df1, df2, df3, ...])"
   ]
  },
  {
   "cell_type": "markdown",
   "metadata": {},
   "source": [
    "#### Exploratory analysis"
   ]
  },
  {
   "cell_type": "code",
   "execution_count": 12,
   "metadata": {},
   "outputs": [
    {
     "name": "stdout",
     "output_type": "stream",
     "text": [
      "         Life expectancy   1800   1801   1802   1803   1804   1805   1806  \\\n",
      "0               Abkhazia    NaN    NaN    NaN    NaN    NaN    NaN    NaN   \n",
      "1            Afghanistan  28.21  28.20  28.19  28.18  28.17  28.16  28.15   \n",
      "2  Akrotiri and Dhekelia    NaN    NaN    NaN    NaN    NaN    NaN    NaN   \n",
      "3                Albania  35.40  35.40  35.40  35.40  35.40  35.40  35.40   \n",
      "4                Algeria  28.82  28.82  28.82  28.82  28.82  28.82  28.82   \n",
      "\n",
      "    1807   1808  ...     1890   1891   1892   1893   1894   1895   1896  \\\n",
      "0    NaN    NaN  ...      NaN    NaN    NaN    NaN    NaN    NaN    NaN   \n",
      "1  28.14  28.13  ...    27.29  27.28  27.27  27.26  27.25  27.24  27.23   \n",
      "2    NaN    NaN  ...      NaN    NaN    NaN    NaN    NaN    NaN    NaN   \n",
      "3  35.40  35.40  ...    35.40  35.40  35.40  35.40  35.40  35.40  35.40   \n",
      "4  28.82  28.82  ...    28.82  28.82  28.82  28.82  28.82  28.82  28.82   \n",
      "\n",
      "    1897   1898   1899  \n",
      "0    NaN    NaN    NaN  \n",
      "1  27.22  27.21  27.20  \n",
      "2    NaN    NaN    NaN  \n",
      "3  35.40  35.40  35.40  \n",
      "4  28.82  28.82  28.82  \n",
      "\n",
      "[5 rows x 101 columns]\n",
      "<class 'pandas.core.frame.DataFrame'>\n",
      "RangeIndex: 260 entries, 0 to 259\n",
      "Columns: 101 entries, Life expectancy to 1899\n",
      "dtypes: float64(100), object(1)\n",
      "memory usage: 205.2+ KB\n",
      "None\n",
      "             1800        1801        1802        1803        1804        1805  \\\n",
      "count  201.000000  201.000000  201.000000  201.000000  201.000000  201.000000   \n",
      "mean    31.486020   31.448905   31.463483   31.377413   31.446318   31.562537   \n",
      "std      3.763585    3.755739    3.878204    3.901966    3.877156    3.947957   \n",
      "min     23.390000   23.390000   23.390000   19.600000   23.390000   23.390000   \n",
      "25%     29.000000   28.950000   28.900000   28.900000   28.950000   29.000000   \n",
      "50%     31.800000   31.700000   31.600000   31.500000   31.600000   31.700000   \n",
      "75%     33.900000   33.900000   33.900000   33.800000   33.870000   33.900000   \n",
      "max     42.850000   40.300000   44.370000   44.840000   42.830000   44.270000   \n",
      "\n",
      "             1806        1807        1808        1809     ...            1890  \\\n",
      "count  201.000000  201.000000  201.000000  201.000000     ...      201.000000   \n",
      "mean    31.615970   31.573134   31.376766   31.310448     ...       32.291045   \n",
      "std      4.039261    3.917339    4.017228    3.972970     ...        5.907298   \n",
      "min     23.390000   23.390000   12.480000   13.430000     ...        4.000000   \n",
      "25%     29.000000   29.000000   28.950000   28.820000     ...       29.200000   \n",
      "50%     31.800000   31.800000   31.600000   31.500000     ...       32.000000   \n",
      "75%     34.000000   34.000000   33.870000   33.800000     ...       35.000000   \n",
      "max     45.820000   43.560000   43.550000   41.740000     ...       50.480000   \n",
      "\n",
      "             1891        1892        1893        1894        1895        1896  \\\n",
      "count  201.000000  201.000000  201.000000  201.000000  201.000000  201.000000   \n",
      "mean    32.475373   32.478408   32.533085   32.747214   32.811841   32.895224   \n",
      "std      5.734794    5.825318    6.018269    5.822354    6.067020    6.344388   \n",
      "min      8.000000   14.000000    8.000000   22.180000   22.000000   20.000000   \n",
      "25%     29.200000   29.000000   29.000000   29.200000   29.200000   29.000000   \n",
      "50%     32.000000   32.000000   32.000000   32.000000   32.000000   32.000000   \n",
      "75%     35.100000   35.000000   35.000000   35.000000   35.000000   35.000000   \n",
      "max     51.090000   52.730000   52.580000   52.100000   54.160000   53.840000   \n",
      "\n",
      "             1897        1898        1899  \n",
      "count  201.000000  201.000000  201.000000  \n",
      "mean    32.964279   32.994080   32.962985  \n",
      "std      6.390669    6.336805    6.325265  \n",
      "min     19.000000   19.700000   18.900000  \n",
      "25%     29.200000   29.160000   29.000000  \n",
      "50%     32.000000   32.000000   32.000000  \n",
      "75%     35.000000   35.180000   35.180000  \n",
      "max     54.140000   54.690000   51.620000  \n",
      "\n",
      "[8 rows x 100 columns]\n",
      "Index(['Life expectancy', '1800', '1801', '1802', '1803', '1804', '1805',\n",
      "       '1806', '1807', '1808',\n",
      "       ...\n",
      "       '1890', '1891', '1892', '1893', '1894', '1895', '1896', '1897', '1898',\n",
      "       '1899'],\n",
      "      dtype='object', length=101)\n",
      "(260, 101)\n"
     ]
    }
   ],
   "source": [
    "import pandas as pd\n",
    "g1800s = pd.read_csv('data/g1800s.csv')\n",
    "print(g1800s.head())\n",
    "print(g1800s.info())\n",
    "print(g1800s.describe())\n",
    "print(g1800s.columns)\n",
    "print(g1800s.shape)"
   ]
  },
  {
   "cell_type": "markdown",
   "metadata": {},
   "source": [
    "#### Visualizing your data"
   ]
  },
  {
   "cell_type": "code",
   "execution_count": 14,
   "metadata": {},
   "outputs": [
    {
     "data": {
      "image/png": "[encoded data removed]",
      "text/plain": [
       "<Figure size 432x288 with 1 Axes>"
      ]
     },
     "metadata": {},
     "output_type": "display_data"
    }
   ],
   "source": [
    "# Import packages\n",
    "import matplotlib.pyplot as plt\n",
    "\n",
    "# Create the scatter plot\n",
    "g1800s.plot(kind='scatter', x='1800', y='1899')\n",
    "\n",
    "# Specify axis labels\n",
    "plt.xlabel('Life expectancy by Country in 1800')\n",
    "plt.ylabel('Life expectancy by Country in 1899')\n",
    "\n",
    "# Specify axis limits\n",
    "plt.xlim(20, 55)\n",
    "plt.ylim(20, 55)\n",
    "\n",
    "# Display plot\n",
    "plt.show()\n",
    "\n",
    "# Note the diagonal line, meaning no change in 99 years. Most likely a data error"
   ]
  },
  {
   "cell_type": "raw",
   "metadata": {},
   "source": [
    "Thinking about the question at hand:\n",
    "\n",
    "Since you are given life expectancy level data by country and year, you could ask questions about how much the average life expectancy changes over each year.\n",
    "\n",
    "Before continuing, however, it's important to make sure that the following assumptions about the data are true:\n",
    "\n",
    "    -'Life expectancy' is the first column (index 0) of the DataFrame.\n",
    "    -The other columns contain either null or numeric values.\n",
    "    -The numeric values are all greater than or equal to 0.\n",
    "    -There is only one instance of each country.\n",
    "    \n",
    "Next, write a function that drops missing values, then checks that all remaining values are > 0"
   ]
  },
  {
   "cell_type": "code",
   "execution_count": 25,
   "metadata": {},
   "outputs": [],
   "source": [
    "def check_null_or_valid(row_data):\n",
    "    \"\"\"Function that takes a row of data, drops all missing values,\n",
    "    and checks if all remaining values are greater than or equal to 0\n",
    "    \"\"\"\n",
    "    no_na = row_data.dropna()\n",
    "    numeric = pd.to_numeric(no_na)\n",
    "    ge0 = numeric >= 0\n",
    "    return ge0\n",
    "\n",
    "# Check whether the first column is 'Life expectancy'\n",
    "assert g1800s.columns[0] == 'Life expectancy'\n",
    "\n",
    "# Check whether the values in the row are valid\n",
    "assert g1800s.iloc[:, 1:].apply(check_null_or_valid, axis=1).all().all()\n",
    "\n",
    "# Check that there is only one instance of each country\n",
    "assert g1800s['Life expectancy'].value_counts()[0] == 1"
   ]
  },
  {
   "cell_type": "code",
   "execution_count": 37,
   "metadata": {},
   "outputs": [],
   "source": [
    "# Create DF's: g1900 & g2000\n",
    "g1900s = pd.read_csv('data/g1900.csv')\n",
    "g2000s = pd.read_csv('data/g2000s.csv')"
   ]
  },
  {
   "cell_type": "code",
   "execution_count": 68,
   "metadata": {},
   "outputs": [
    {
     "name": "stdout",
     "output_type": "stream",
     "text": [
      "(780, 218)\n",
      "         Life expectancy   1800   1801   1802   1803   1804   1805   1806  \\\n",
      "0               Abkhazia    NaN    NaN    NaN    NaN    NaN    NaN    NaN   \n",
      "1            Afghanistan  28.21  28.20  28.19  28.18  28.17  28.16  28.15   \n",
      "2  Akrotiri and Dhekelia    NaN    NaN    NaN    NaN    NaN    NaN    NaN   \n",
      "3                Albania  35.40  35.40  35.40  35.40  35.40  35.40  35.40   \n",
      "4                Algeria  28.82  28.82  28.82  28.82  28.82  28.82  28.82   \n",
      "\n",
      "    1807   1808  ...   2007  2008  2009  2010  2011  2012  2013  2014  2015  \\\n",
      "0    NaN    NaN  ...    NaN   NaN   NaN   NaN   NaN   NaN   NaN   NaN   NaN   \n",
      "1  28.14  28.13  ...    NaN   NaN   NaN   NaN   NaN   NaN   NaN   NaN   NaN   \n",
      "2    NaN    NaN  ...    NaN   NaN   NaN   NaN   NaN   NaN   NaN   NaN   NaN   \n",
      "3  35.40  35.40  ...    NaN   NaN   NaN   NaN   NaN   NaN   NaN   NaN   NaN   \n",
      "4  28.82  28.82  ...    NaN   NaN   NaN   NaN   NaN   NaN   NaN   NaN   NaN   \n",
      "\n",
      "   2016  \n",
      "0   NaN  \n",
      "1   NaN  \n",
      "2   NaN  \n",
      "3   NaN  \n",
      "4   NaN  \n",
      "\n",
      "[5 rows x 218 columns]\n"
     ]
    }
   ],
   "source": [
    "# Concatenate the DF's row-wise: g1800s, g1900s, & g2000s\n",
    "gapminder = pd.concat([g1800s, g1900s, g2000s], sort=False) # default for row-wise, and axis=1 for column-wise\n",
    "\n",
    "print(gapminder.shape)\n",
    "print(gapminder.head())"
   ]
  },
  {
   "cell_type": "markdown",
   "metadata": {},
   "source": [
    "#### Reshaping data - tidying it"
   ]
  },
  {
   "cell_type": "raw",
   "metadata": {},
   "source": [
    "Currently, the gapminder DataFrame has a separate column for each year. What you want instead is a single column that contains the year, and a single column that represents the average life expectancy for each year and country. By having year in its own column, you can use it as a predictor variable in a later analysis.\n",
    "\n",
    "You can convert the DataFrame into the desired tidy format by melting it."
   ]
  },
  {
   "cell_type": "code",
   "execution_count": 69,
   "metadata": {},
   "outputs": [
    {
     "data": {
      "text/html": [
       "<div>\n",
       "<style scoped>\n",
       "    .dataframe tbody tr th:only-of-type {\n",
       "        vertical-align: middle;\n",
       "    }\n",
       "\n",
       "    .dataframe tbody tr th {\n",
       "        vertical-align: top;\n",
       "    }\n",
       "\n",
       "    .dataframe thead th {\n",
       "        text-align: right;\n",
       "    }\n",
       "</style>\n",
       "<table border=\"1\" class=\"dataframe\">\n",
       "  <thead>\n",
       "    <tr style=\"text-align: right;\">\n",
       "      <th></th>\n",
       "      <th>country</th>\n",
       "      <th>year</th>\n",
       "      <th>life_expectancy</th>\n",
       "    </tr>\n",
       "  </thead>\n",
       "  <tbody>\n",
       "    <tr>\n",
       "      <th>0</th>\n",
       "      <td>Abkhazia</td>\n",
       "      <td>1800</td>\n",
       "      <td>NaN</td>\n",
       "    </tr>\n",
       "    <tr>\n",
       "      <th>1</th>\n",
       "      <td>Afghanistan</td>\n",
       "      <td>1800</td>\n",
       "      <td>28.21</td>\n",
       "    </tr>\n",
       "    <tr>\n",
       "      <th>2</th>\n",
       "      <td>Akrotiri and Dhekelia</td>\n",
       "      <td>1800</td>\n",
       "      <td>NaN</td>\n",
       "    </tr>\n",
       "    <tr>\n",
       "      <th>3</th>\n",
       "      <td>Albania</td>\n",
       "      <td>1800</td>\n",
       "      <td>35.40</td>\n",
       "    </tr>\n",
       "    <tr>\n",
       "      <th>4</th>\n",
       "      <td>Algeria</td>\n",
       "      <td>1800</td>\n",
       "      <td>28.82</td>\n",
       "    </tr>\n",
       "  </tbody>\n",
       "</table>\n",
       "</div>"
      ],
      "text/plain": [
       "                 country  year  life_expectancy\n",
       "0               Abkhazia  1800              NaN\n",
       "1            Afghanistan  1800            28.21\n",
       "2  Akrotiri and Dhekelia  1800              NaN\n",
       "3                Albania  1800            35.40\n",
       "4                Algeria  1800            28.82"
      ]
     },
     "execution_count": 69,
     "metadata": {},
     "output_type": "execute_result"
    }
   ],
   "source": [
    "# Melt gapminder: gapminder_melt\n",
    "gapminder_melt = pd.melt(frame=gapminder, id_vars='Life expectancy')\n",
    "\n",
    "# Rename the three melted columns to 'country', 'year', 'and 'life_expectancy'\n",
    "gapminder_melt.columns = ['country', 'year', 'life_expectancy']\n",
    "\n",
    "#print(gapminder.head())\n",
    "gapminder_melt.head()"
   ]
  },
  {
   "cell_type": "markdown",
   "metadata": {},
   "source": [
    "#### Checking data types"
   ]
  },
  {
   "cell_type": "code",
   "execution_count": 70,
   "metadata": {},
   "outputs": [],
   "source": [
    "# Import packages\n",
    "import numpy as np\n",
    "\n",
    "# Convert the year column to numeric\n",
    "gapminder_melt.year = pd.to_numeric(gapminder_melt.year)\n",
    "\n",
    "# Test if country is of type object\n",
    "assert gapminder_melt.country.dtypes == np.object\n",
    "\n",
    "# Test if year is of type int64\n",
    "assert gapminder_melt.year.dtypes == np.int64\n",
    "\n",
    "# Test if life_expectancy is of type float64\n",
    "assert gapminder_melt.life_expectancy.dtypes == np.float64\n",
    "\n",
    "# Since the assert statements didn't throw errors, the columns have the correct data types"
   ]
  },
  {
   "cell_type": "raw",
   "metadata": {},
   "source": [
    "Having tidied your DataFrame and checked the data types, your next task in the data cleaning process is to look at the 'country' column to see if there are any special or invalid characters you may need to deal with.\n",
    "\n",
    "It is reasonable to assume that country names will contain:\n",
    "\n",
    "    -The set of lower and upper case letters.\n",
    "    -Whitespace between words.\n",
    "    -Periods for any abbreviations.\n",
    "\n",
    "To confirm that this is the case, you can leverage the power of regular expressions again. For common operations like this, Pandas has a built-in string method - str.contains() - which takes a regular expression pattern, and applies it to the Series, returning True if there is a match, and False otherwise.\n",
    "\n",
    "Since here you want to find the values that do not match, you have to invert the boolean, which can be done using ~. This Boolean series can then be used to get the Series of countries that have invalid names."
   ]
  },
  {
   "cell_type": "code",
   "execution_count": 71,
   "metadata": {},
   "outputs": [
    {
     "name": "stdout",
     "output_type": "stream",
     "text": [
      "49            Congo, Dem. Rep.\n",
      "50                 Congo, Rep.\n",
      "53               Cote d'Ivoire\n",
      "73      Falkland Is (Malvinas)\n",
      "93               Guinea-Bissau\n",
      "98            Hong Kong, China\n",
      "118    United Korea (former)\\n\n",
      "131               Macao, China\n",
      "132             Macedonia, FYR\n",
      "145      Micronesia, Fed. Sts.\n",
      "161            Ngorno-Karabakh\n",
      "187             St. Barthélemy\n",
      "193     St.-Pierre-et-Miquelon\n",
      "225                Timor-Leste\n",
      "251      Virgin Islands (U.S.)\n",
      "252       North Yemen (former)\n",
      "253       South Yemen (former)\n",
      "258                      Åland\n",
      "Name: country, dtype: object\n"
     ]
    }
   ],
   "source": [
    "# Create the series of countries: countries\n",
    "countries = gapminder_melt['country']\n",
    "\n",
    "# Drop all duplicates from countries\n",
    "countries = countries.drop_duplicates()\n",
    "\n",
    "# Write the regex: pattern\n",
    "pattern = '^[A-Za-z\\.\\s]*$' # Anchor the pattern by putting a '^' in the beginning and a '$' at the end\n",
    "                            # 'A-Za-z' to match the set of upper and lowercase letters\n",
    "                            # '\\.' to match periods\n",
    "                            # '\\s' to match whitespace between words\n",
    "\n",
    "# Create the Boolean vector: mask\n",
    "mask = countries.str.contains(pattern)\n",
    "\n",
    "# Invert the mask to find values that do not match: mask_inverse\n",
    "mask_inverse = ~mask\n",
    "\n",
    "# Subset countries using mask_inverse: invalid_countries\n",
    "invalid_countries = countries.loc[mask_inverse]\n",
    "\n",
    "# Print invalid_countries to see if any entries are wrong or need to be fixed \n",
    "print(invalid_countries)"
   ]
  },
  {
   "cell_type": "markdown",
   "metadata": {},
   "source": [
    "#### More cleaning and processing"
   ]
  },
  {
   "cell_type": "code",
   "execution_count": 72,
   "metadata": {},
   "outputs": [
    {
     "name": "stdout",
     "output_type": "stream",
     "text": [
      "Shape before drop:  (169260, 3)\n",
      "Shape after drop:  (43857, 3)\n"
     ]
    }
   ],
   "source": [
    "# Assert that country does not contain any missing values\n",
    "assert pd.notnull(gapminder_melt.country).all()\n",
    "\n",
    "# Assert that year does not contain any missing values\n",
    "assert pd.notnull(gapminder_melt.year).all()\n",
    "\n",
    "# Print the shape of gapminder_melt\n",
    "print('Shape before drop: ', gapminder_melt.shape)\n",
    "\n",
    "# Drop the missing values\n",
    "gapminder_melt = gapminder_melt.dropna(how='any')\n",
    "\n",
    "# Print the shape of gapminder_melt\n",
    "print('Shape after drop: ', gapminder_melt.shape)"
   ]
  },
  {
   "cell_type": "markdown",
   "metadata": {},
   "source": [
    "#### Wrapping up - with visualization and aggregation"
   ]
  },
  {
   "cell_type": "raw",
   "metadata": {},
   "source": [
    "In this exercise, you'll begin by creating a histogram of the life_expectancy column. You should not get any values under 0 and you should see something reasonable on the higher end of the life_expectancy age range.\n",
    "\n",
    "Your next task is to investigate how average life expectancy changed over the years. To do this, you need to subset the data by each year, get the life_expectancy column from each subset, and take an average of the values. You can achieve this using the .groupby() method. "
   ]
  },
  {
   "cell_type": "code",
   "execution_count": 78,
   "metadata": {},
   "outputs": [
    {
     "data": {
      "image/png": "[encoded data removed]",
      "text/plain": [
       "<Figure size 432x288 with 2 Axes>"
      ]
     },
     "metadata": {},
     "output_type": "display_data"
    }
   ],
   "source": [
    "# Add first subplot\n",
    "plt.subplot(2, 1, 1)\n",
    "\n",
    "# Create a histogram of life_expectancy\n",
    "gapminder_melt.life_expectancy.plot(kind='hist')\n",
    "\n",
    "# Group gapminder_melt: gapminder_agg\n",
    "gapminder_agg = gapminder_melt.groupby('year')['life_expectancy'].mean()\n",
    "\n",
    "# Add a second subplot\n",
    "plt.subplot(2, 1, 2)\n",
    "\n",
    "# Create a line plot of life expectancy per year\n",
    "gapminder_agg.plot(kind='line')\n",
    "\n",
    "# Add title and specify axis labels\n",
    "plt.title('Life expectancy over the years')\n",
    "plt.ylabel('Life expectancy')\n",
    "plt.xlabel('Year')\n",
    "\n",
    "# Display the plots\n",
    "plt.tight_layout()\n",
    "plt.show()"
   ]
  },
  {
   "cell_type": "code",
   "execution_count": 82,
   "metadata": {},
   "outputs": [
    {
     "data": {
      "text/plain": [
       "year\n",
       "1800    31.486020\n",
       "1801    31.448905\n",
       "1802    31.463483\n",
       "1803    31.377413\n",
       "1804    31.446318\n",
       "Name: life_expectancy, dtype: float64"
      ]
     },
     "execution_count": 82,
     "metadata": {},
     "output_type": "execute_result"
    }
   ],
   "source": [
    "# Print the head of gapminder_agg\n",
    "gapminder_agg.head()"
   ]
  },
  {
   "cell_type": "code",
   "execution_count": 83,
   "metadata": {},
   "outputs": [
    {
     "data": {
      "text/plain": [
       "year\n",
       "2012    71.663077\n",
       "2013    71.916106\n",
       "2014    72.088125\n",
       "2015    72.321010\n",
       "2016    72.556635\n",
       "Name: life_expectancy, dtype: float64"
      ]
     },
     "execution_count": 83,
     "metadata": {},
     "output_type": "execute_result"
    }
   ],
   "source": [
    "\n",
    "# Print the tail of gapminder_agg\n",
    "gapminder_agg.tail()"
   ]
  },
  {
   "cell_type": "code",
   "execution_count": 84,
   "metadata": {},
   "outputs": [],
   "source": [
    "# Save both DataFrames to csv files\n",
    "gapminder_melt.to_csv('data/gapminder_melt_ex.csv')\n",
    "gapminder_agg.to_csv('data/gapminder_agg_ex.csv')"
   ]
  },
  {
   "cell_type": "code",
   "execution_count": null,
   "metadata": {},
   "outputs": [],
   "source": []
  }
 ],
 "metadata": {
  "kernelspec": {
   "display_name": "Python 3",
   "language": "python",
   "name": "python3"
  },
  "language_info": {
   "codemirror_mode": {
    "name": "ipython",
    "version": 3
   },
   "file_extension": ".py",
   "mimetype": "text/x-python",
   "name": "python",
   "nbconvert_exporter": "python",
   "pygments_lexer": "ipython3",
   "version": "3.6.5"
  },
  "toc": {
   "base_numbering": 1,
   "nav_menu": {},
   "number_sections": true,
   "sideBar": true,
   "skip_h1_title": false,
   "title_cell": "Table of Contents",
   "title_sidebar": "Contents",
   "toc_cell": false,
   "toc_position": {},
   "toc_section_display": true,
   "toc_window_display": false
  }
 },
 "nbformat": 4,
 "nbformat_minor": 2
}
